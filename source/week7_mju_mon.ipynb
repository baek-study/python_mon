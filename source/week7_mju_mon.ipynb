{
  "nbformat": 4,
  "nbformat_minor": 0,
  "metadata": {
    "colab": {
      "provenance": [],
      "toc_visible": true
    },
    "kernelspec": {
      "name": "python3",
      "display_name": "Python 3"
    },
    "language_info": {
      "name": "python"
    }
  },
  "cells": [
    {
      "cell_type": "markdown",
      "source": [
        "### **[7주차 강의] - 파이썬 입문(월)/백혜정 교수**"
      ],
      "metadata": {
        "id": "3LQGW73_YeEB"
      }
    },
    {
      "cell_type": "markdown",
      "source": [
        "# **6주차 Review**\n",
        "\n",
        "\n",
        "####**1.   문자열 생성 및 조작**\n",
        "\n",
        "*  생성 : 작은/큰 따옴표,  삼중 작은/큰 따옴표\n",
        "*  인덱싱: 개별 문자, msg[i]  # 0부터 시작, 끝은 -1\n",
        "* 슬라이싱 : 부분 문자열, msg[start:end] # start에서 end-1까지\n",
        "* 연산 :  +(병합), *(반복), in/not in (멤버쉽)\n",
        "\n",
        "####**2.   문자열 메소드**\n",
        "* 내장 함수 : len(msg)  # 길이\n",
        "* 메소드 : msg.split(), msg.find('py'), msg.count('p')\n",
        "\n",
        "\n",
        "\n",
        "\n",
        "\n",
        "\n",
        "---\n",
        "\n"
      ],
      "metadata": {
        "id": "dGHbJ23PCLV_"
      }
    },
    {
      "cell_type": "markdown",
      "source": [
        "### [실습문제]\n",
        "학번과 이름을 _로 구분하여 입력 받고, 각각 분리하여 출력히고, 학번의 자릿수를 출력 하고, 이름의  맨끝자를 출력하는 프로그램\n",
        "--------\n",
        "학번과 이름을 _로 구분하여 입력:\n",
        "학번 :\n",
        "학번 길이:  \n",
        "이름:\n",
        "이름끝자 :\n",
        "\n",
        "1) 사용자 입력을 split()  함수 이용하여  num, name 에 넣음\n",
        "2) num, name, num의 길이 출력\n"
      ],
      "metadata": {
        "id": "awwoZbalirud"
      }
    },
    {
      "cell_type": "code",
      "source": [
        "# 사용자 입력 - 학번(num)과 이름(name)을 _로 구분하여 입력 받고, 분리\n",
        "a=input(\"이름과 학번을 _로 구분하여 입력하시오\")\n",
        "num, name =a.split('_')\n",
        "# 학번의 자릿수 출력\n",
        "lenght=len(num)\n",
        "# 이름의 맨끝자 출력\n",
        "name_A=name[-1]\n",
        "print(f\"{num} {name_A}\")"
      ],
      "metadata": {
        "id": "MOw5vDsrirZe",
        "colab": {
          "base_uri": "https://localhost:8080/"
        },
        "outputId": "ff2290d6-a30f-4a2e-8d35-b737f27817cf"
      },
      "execution_count": null,
      "outputs": [
        {
          "output_type": "stream",
          "name": "stdout",
          "text": [
            "이름과 학번을 _로 구분하여 입력하시오01024_ㅇㅇㅇ\n",
            "01024 ㅇ\n"
          ]
        }
      ]
    },
    {
      "cell_type": "markdown",
      "source": [
        "# **1부 문자열 서식**\n",
        "* f-문자열 기본 서식 : { } 이용\n",
        "* f-문자열:자료형식 : d(정수), f(실수), s(문자열)\n",
        "* 기타 서식 : %, .format() #  이전 버전"
      ],
      "metadata": {
        "id": "QFAiHSTTlW-n"
      }
    },
    {
      "cell_type": "code",
      "source": [
        "# 화면에 1 2 3 출력 하는 방법 !!!\n",
        "# 1. 콤마를 이용하여 1 2 3 출력\n",
        "print(1, 2, 3)\n",
        "# 2. 문자열 + 를 이용하여 1 2 3 출력\n",
        "print(\"1 \" + \"2 \" +\"3 \")\n",
        "# 3. f - 문자 열\n",
        "print(f'{1} {2} {3}')"
      ],
      "metadata": {
        "id": "JM53yaMDd8-a",
        "colab": {
          "base_uri": "https://localhost:8080/"
        },
        "outputId": "3cfd6d11-95da-48b8-d6cd-3eb770bad615"
      },
      "execution_count": null,
      "outputs": [
        {
          "output_type": "stream",
          "name": "stdout",
          "text": [
            "1 2 3\n",
            "1 2 3 \n",
            "1 2 3\n"
          ]
        }
      ]
    },
    {
      "cell_type": "markdown",
      "source": [
        "## **1.1 f-문자열**\n",
        "f'.... {표현식} ....'  # f 문자 쓰고, 문자열 안에 { } 사용\n"
      ],
      "metadata": {
        "id": "qWJtbGvgkirm"
      }
    },
    {
      "cell_type": "markdown",
      "source": [
        "### **기본 문법**\n",
        "f'.... {표현식} ....'  # f 문자 쓰고, 문자열 안에 { } 사용\n",
        "- 기본방식 - 값/변수/수식\n"
      ],
      "metadata": {
        "id": "kJLThPLUfO3q"
      }
    },
    {
      "cell_type": "code",
      "source": [
        "name ='alice'\n",
        "age = 30\n",
        "\n",
        "# 기존 print() 이용 - Hello,\n",
        "print(\"hello\", name, \"you are\", age, \"years old!\")\n",
        "print(f'hello {name} you are {age} years old   ') #이용 - { } 사용하기"
      ],
      "metadata": {
        "id": "zsuWmJ6Kr_dJ",
        "colab": {
          "base_uri": "https://localhost:8080/"
        },
        "outputId": "d2e14621-db4a-4414-e471-51ece2e6e2cd"
      },
      "execution_count": null,
      "outputs": [
        {
          "output_type": "stream",
          "name": "stdout",
          "text": [
            "hello alice you are 30 years old!\n",
            "hello alice your are 30 years old   \n"
          ]
        }
      ]
    },
    {
      "cell_type": "markdown",
      "source": [
        "### **{표현식(값/변수/수식/함수)}**\n"
      ],
      "metadata": {
        "id": "BvyPBk47r-35"
      }
    },
    {
      "cell_type": "code",
      "source": [
        "x = 100\n",
        "y = 200\n",
        "\n",
        "# 숫자(100) 과 x 출력\n",
        "print(f'x는 {x}, 숫자 {100}')\n",
        "# 수식(x+y,  x+ 200, 50+60) 출력\n",
        "print(f'x+y = {x+y}, x+200 = {x+200}, 50+60 ={50+60}')\n",
        "# 함수(max(100,200)) 출력\n",
        "print(f'100과 200중 큰 값 : {max(100, 200)}')\n",
        "# 중괄호 출력 하고 싶으면?\n",
        "print(f' 중괄호 {{ }}')\n"
      ],
      "metadata": {
        "id": "KINRLDxsr-ma",
        "colab": {
          "base_uri": "https://localhost:8080/"
        },
        "outputId": "91e76c17-5584-4a34-e6a3-9e6513e0559d"
      },
      "execution_count": null,
      "outputs": [
        {
          "output_type": "stream",
          "name": "stdout",
          "text": [
            "x는 100, 숫자 100\n",
            "x+y = 300, x+200 = 300, 50+60 =110\n",
            "100과 200중 큰 값 : 200\n",
            " 중괄호 { }\n"
          ]
        }
      ]
    },
    {
      "cell_type": "markdown",
      "source": [
        "## **1.2 f-문자열:자료형식**\n",
        "{표현식:자료형식코드}\n",
        "\n",
        "*   정수 : d(decimal), {num:d}\n",
        "*   실수 : f(fixed/float), {avg:f}\n",
        "* 문자열 : s (string), {msg:s}\n",
        "\n"
      ],
      "metadata": {
        "id": "FEjhjqs0wsH6"
      }
    },
    {
      "cell_type": "code",
      "source": [
        "num = 15\n",
        "\n",
        "# num 출력 - 10진 표현\n",
        "print(f\"2진 포현으로는 {num:b}입니다.\")\n",
        "print(f\"8진 표현으로는 {num:o}입니다.\")\n",
        "print(f\"10진 표현으로는 {num:d}입니다.\")\n",
        "print(f\"16진 표현으로는 {num:x}입니다.\")\n",
        "\n",
        "n1 = 1000\n",
        "n2 = 8\n",
        "\n",
        "avg = n1/n2\n",
        "\n",
        "# avg 출력\n",
        "print(f\"{n1} / {n2} = {avg}\")\n",
        "# avg 출력 - 실수 f 형식\n",
        "print(f\"{n1} / {n2} = {avg:f}\")\n",
        "# avg 출력 - 실수 e 형식\n",
        "print(f\"{n1} / {n2} = {avg:e}\")\n",
        "print(f\"{n1} / {n2} = {avg:g}\")"
      ],
      "metadata": {
        "id": "47iozvQvyR8S",
        "colab": {
          "base_uri": "https://localhost:8080/"
        },
        "outputId": "bbbb478c-13aa-4455-c2d3-187311eb6e46"
      },
      "execution_count": null,
      "outputs": [
        {
          "output_type": "stream",
          "name": "stdout",
          "text": [
            "2진 포현으로는 1111입니다.\n",
            "8진 표현으로는 17입니다.\n",
            "10진 표현으로는 15입니다.\n",
            "16진 표현으로는 f입니다.\n",
            "1000 / 8 = 125.0\n",
            "1000 / 8 = 125.000000\n",
            "1000 / 8 = 1.250000e+02\n",
            "1000 / 8 = 125\n"
          ]
        }
      ]
    },
    {
      "cell_type": "markdown",
      "source": [
        "### **자릿수 & 정렬**\n",
        "\n",
        "\n",
        "*   {num:5d}   # 5자리 확보\n",
        "*   {num:<5d}  # 왼쪽 정렬\n",
        "*   {num:<05d} # 빈공간에 0\n",
        "\n"
      ],
      "metadata": {
        "id": "11rVfI2jzizj"
      }
    },
    {
      "cell_type": "code",
      "source": [
        "num = 15\n",
        "\n",
        "# 다섯자리 확보\n",
        "print(f'[{num:d}]')\n",
        "print(f'[{num:5d}]')\n",
        "print(f'[{num:<5d}]')\n",
        "print(f'[{num:^5d}]')\n",
        "print(f'[{12345678:5d}]')\n",
        "print(f'[{num:05d}]')\n",
        "# 왼쪽 정렬\n",
        "pi=3.14159265358979\n",
        "print(f'[{pi:f}]')   #소수점 여섯 번째 자릿 수까지.\n",
        "print(f'[{pi:.2f}]') #소수점 두 번째 자릿 수까지\n",
        "print(f'[{pi:5.2f}]')\n",
        "# 5자리면서 빈공간에 0 채우기"
      ],
      "metadata": {
        "id": "SpYzEVeWfmFK",
        "colab": {
          "base_uri": "https://localhost:8080/"
        },
        "outputId": "2e90fea1-a385-4766-8173-99cc8abf567b"
      },
      "execution_count": null,
      "outputs": [
        {
          "output_type": "stream",
          "name": "stdout",
          "text": [
            "[15]\n",
            "[   15]\n",
            "[15   ]\n",
            "[ 15  ]\n",
            "[12345678]\n",
            "[00015]\n",
            "[3.141593]\n",
            "[3.14]\n",
            "[ 3.14]\n"
          ]
        }
      ]
    },
    {
      "cell_type": "markdown",
      "source": [
        "### **정밀도:소수점 몇자리**\n",
        "\n",
        "\n",
        "*  {PI:f}# 기본-소수점 이하 6자리\n",
        "*   {PI:.2f} # 소수점 이하 두자리\n",
        "* {PI:5.2f} # 전체가 5자리(소수점 포함)\n",
        "\n"
      ],
      "metadata": {
        "id": "wK0eHwVkf0iw"
      }
    },
    {
      "cell_type": "code",
      "source": [],
      "metadata": {
        "id": "ulOe54zO4RI9"
      },
      "execution_count": null,
      "outputs": []
    },
    {
      "cell_type": "code",
      "source": [
        "# 디버깅 지정자, 등호 지정자\n",
        "\n",
        "name = 'alice'\n",
        "age = 25\n",
        "\n",
        "x = 100\n",
        "pi = 3.14\n",
        "\n",
        "print(f'name = {name}, age = {age} ')\n",
        "# 디버깅 지정자\n",
        "print(f'{name=}, {age=}')\n",
        "print(f'x = {x}, pi = {pi}')\n",
        "print(f'{x=}, {y=}')"
      ],
      "metadata": {
        "colab": {
          "base_uri": "https://localhost:8080/"
        },
        "id": "p-S4GLnx9KB-",
        "outputId": "caa5af86-788e-4444-b156-baaf0a6ebd95"
      },
      "execution_count": null,
      "outputs": [
        {
          "output_type": "stream",
          "name": "stdout",
          "text": [
            "name = alice, age = 25 \n",
            "name='alice', age=25\n",
            "x = 100, pi = 3.14\n",
            "x=100, y=200\n"
          ]
        }
      ]
    },
    {
      "cell_type": "markdown",
      "source": [
        "## **1.3 기타서식**\n",
        "\n",
        "\n",
        "*   초기 버전 - % 방식\n",
        "*   이후 버전 - .format() 방식\n",
        "\n"
      ],
      "metadata": {
        "id": "8ObvJ62P0vXb"
      }
    },
    {
      "cell_type": "code",
      "source": [
        "# % 기호 이용\n",
        "print(\"%d %d %d\" % (1, 2, 3))\n",
        "# format() 함수 이용\n",
        "print(\"{} {} {}\".format(\"a\", \"b\", \"c\"))"
      ],
      "metadata": {
        "id": "qKxh0jdYf1RC"
      },
      "execution_count": null,
      "outputs": []
    },
    {
      "cell_type": "markdown",
      "source": [
        "## **1.4 키워드 인수**\n",
        "\n",
        "print(\"hello\", sep = ' ', end = '\\n')\n",
        "*   sep : print시 콤마(,) 만나면?\n",
        "*   end : print 처리 후 마감 문자지정\n"
      ],
      "metadata": {
        "id": "iVQzG6m01JX6"
      }
    },
    {
      "cell_type": "code",
      "source": [],
      "metadata": {
        "id": "kVDlAUxmDfi8"
      },
      "execution_count": null,
      "outputs": []
    },
    {
      "cell_type": "code",
      "source": [
        "print(\"hello\", \"world\")\n",
        "print(\"python 수업이다.\")\n",
        "# 위의 print 문장에 sep에 '/'를 지정 end ='끝' 을 추가 하면?"
      ],
      "metadata": {
        "id": "ljjXOiQP19XL",
        "colab": {
          "base_uri": "https://localhost:8080/"
        },
        "outputId": "ea7ab0ff-1307-465a-a006-df90a915d6f3"
      },
      "execution_count": null,
      "outputs": [
        {
          "output_type": "stream",
          "name": "stdout",
          "text": [
            "hello world\n",
            "python 수업이다.\n"
          ]
        }
      ]
    },
    {
      "cell_type": "code",
      "source": [
        "print('안녕','여러분',sep=' ',end='\\n')\n",
        "print('안녕','여러분')\n",
        "print('안녕','여러분', '파이썬',sep='____')\n",
        "print('안녕','여러분',end='!')\n",
        "print('끝')"
      ],
      "metadata": {
        "colab": {
          "base_uri": "https://localhost:8080/"
        },
        "id": "kGKg9-Ig_dH0",
        "outputId": "ba948bc3-0cff-4214-a0a2-3bfe70d64a33"
      },
      "execution_count": null,
      "outputs": [
        {
          "output_type": "stream",
          "name": "stdout",
          "text": [
            "안녕 여러분\n",
            "안녕 여러분\n",
            "안녕____여러분____파이썬\n",
            "안녕 여러분!끝\n"
          ]
        }
      ]
    },
    {
      "cell_type": "markdown",
      "source": [
        "# **2부 반복문:while**\n",
        "*   조건 반복 : 정한 조건이 성립되는 동안 반복\n",
        "\n",
        "*   횟수 반복 : 정해진 횟부만큼 반복\n"
      ],
      "metadata": {
        "id": "YrUQOMYeCIoT"
      }
    },
    {
      "cell_type": "markdown",
      "source": [
        "##**2.1 while 기본 문법**\n",
        "- 조건식을 만족하는 동안 반복적으로 수행\n",
        "\n",
        "- while 조건식 : &emsp; <br>\n",
        "&emsp; 문장 <br>\n"
      ],
      "metadata": {
        "id": "1B753x_sCfvR"
      }
    },
    {
      "cell_type": "markdown",
      "source": [
        "##**2.2 while 사용 예1 : 범위 반복**\n",
        "- 초기값에서 끝값(조건 만족)까지 반복 => 증감 필요\n"
      ],
      "metadata": {
        "id": "ym1nbT6OCgl1"
      }
    },
    {
      "cell_type": "code",
      "source": [
        "#  if count 가 5보다 작은지\n",
        "\n",
        "count = 0\n",
        "\n",
        "while count <5 :\n",
        "    print(f'{count=}')\n",
        "    count = count + 1 # count += 1\n",
        "\n",
        "\n",
        "# while에서 범위 반복\n",
        "# 변수 할당 - 초기화\n",
        "\n",
        "#while 구문  : 0~4 까지\n",
        "num=10\n",
        "while num> 0:\n",
        "    print(f'{num=}')\n",
        "    num-=2"
      ],
      "metadata": {
        "id": "P3BktMOGCk7M",
        "colab": {
          "base_uri": "https://localhost:8080/"
        },
        "outputId": "b01ef473-dd01-4821-a919-9b9681dfd5d3"
      },
      "execution_count": null,
      "outputs": [
        {
          "output_type": "stream",
          "name": "stdout",
          "text": [
            "count=0\n",
            "count=1\n",
            "count=2\n",
            "count=3\n",
            "count=4\n",
            "num=10\n",
            "num=8\n",
            "num=6\n",
            "num=4\n",
            "num=2\n"
          ]
        }
      ]
    },
    {
      "cell_type": "markdown",
      "source": [
        "##**2.3 while 사용 예2 : 조건 제어 반복**\n",
        "- 조건이 만족 할 때 까지"
      ],
      "metadata": {
        "id": "Yvjt3BwrCsxd"
      }
    },
    {
      "cell_type": "code",
      "source": [
        "# 디지털 도어락 열기 - 비밀 번호가 맞을 때 까지\n",
        "\n",
        "# password 에 사용자의 입력 넣기 - 비밀번호를 입력하시오.\n",
        "password = input(\"비밀번호를 입력하시오 : \")\n",
        "# password가  \"#1234*\" 아니면 계속 입력 받음\n",
        "while password != '#1234*' :\n",
        "    password = input(\"비밀번호를 입력하시오 : \")\n",
        "\n",
        "print(f\"문이 열렸습니다.\")"
      ],
      "metadata": {
        "id": "0WH98NfuCwdL",
        "colab": {
          "base_uri": "https://localhost:8080/"
        },
        "outputId": "d6accddf-105a-4f47-ba7c-a7a771413fd4"
      },
      "execution_count": null,
      "outputs": [
        {
          "output_type": "stream",
          "name": "stdout",
          "text": [
            "비밀번호를 입력하시오 : 12\n",
            "비밀번호를 입력하시오 : 13\n",
            "비밀번호를 입력하시오 : 14\n",
            "비밀번호를 입력하시오 : 15\n",
            "비밀번호를 입력하시오 : #1234*\n",
            "문이 열렸습니다.\n"
          ]
        }
      ]
    },
    {
      "cell_type": "code",
      "source": [
        "# 디지털 도어락 열기 - 향상된 버전\n",
        "password = ''\n",
        "# password가  \"#1234*\" 아니면 계속 입력 받음\n",
        "while password != '#1234*' :\n",
        "    password = input(\"비밀번호를 입력하시오 : \")\n",
        "else :\n",
        "    print(\"비밀번호가 맞습니다.\")\n",
        "\n",
        "print(f\"문이 열렸습니다.\")"
      ],
      "metadata": {
        "id": "1DPebBxGC2hP",
        "colab": {
          "base_uri": "https://localhost:8080/"
        },
        "outputId": "1e0bbf1d-ee76-441f-ff0a-552973336551"
      },
      "execution_count": null,
      "outputs": [
        {
          "output_type": "stream",
          "name": "stdout",
          "text": [
            "비밀번호를 입력하시오 : 12\n",
            "비밀번호를 입력하시오 : 13\n",
            "비밀번호를 입력하시오 : #1234*\n",
            "비밀번호가 맞습니다.\n",
            "문이 열렸습니다.\n"
          ]
        }
      ]
    },
    {
      "cell_type": "markdown",
      "source": [
        "##**2.4 while에 else가 있는 경우**\n",
        "- while 조건식 : &emsp; <br>\n",
        "&emsp; 문장 <br>\n",
        "else: <br>\n",
        "&emsp; 문장 <br>\n",
        "\n"
      ],
      "metadata": {
        "id": "w46HPvJVCpLU"
      }
    },
    {
      "cell_type": "markdown",
      "source": [
        "##**2.5 무한 루프**\n",
        "\n"
      ],
      "metadata": {
        "id": "R7n_8Ib_CzXx"
      }
    },
    {
      "cell_type": "code",
      "source": [
        "# 의도 하지 않은 무한 반복\n",
        "# while에서 범위 반복\n",
        "# 변수 할당 - 초기화\n",
        "i=0\n",
        "#while 구문  : 증가 부분이 없는 경우\n",
        "while i <5:\n",
        "    print(\"Hello\")"
      ],
      "metadata": {
        "id": "qCgxA1Z-C-Qd"
      },
      "execution_count": null,
      "outputs": []
    },
    {
      "cell_type": "markdown",
      "source": [
        "### 무한 루프 & 중단\n",
        "\n",
        " while True : &emsp;# 거북이 실습 사용시 <br>\n",
        "&emsp; 문장 <br>\n",
        "&emsp;   if 조건 :  \n",
        "&emsp; &emsp;  break;  # 무한 루프 탈출"
      ],
      "metadata": {
        "id": "aaIuDGo3lp2e"
      }
    },
    {
      "cell_type": "code",
      "source": [
        "# 무한 반복 - break 문\n",
        "# 도어락 문제 !!!!\\\n",
        "\n",
        "password = ''\n",
        "\n",
        "while True:\n",
        "    password = input(\"비밀 번호를 입력하시오 : \")\n",
        "    if password ==  '#1234*' :\n",
        "        break"
      ],
      "metadata": {
        "id": "3VReDAaxls8G",
        "colab": {
          "base_uri": "https://localhost:8080/"
        },
        "outputId": "6028f357-1b9a-4fc0-9af6-64baa3816380"
      },
      "execution_count": null,
      "outputs": [
        {
          "name": "stdout",
          "output_type": "stream",
          "text": [
            "비밀 번호를 입력하시오 : 12\n",
            "비밀 번호를 입력하시오 : 13\n",
            "비밀 번호를 입력하시오 : 14\n",
            "비밀 번호를 입력하시오 : #1234*\n"
          ]
        }
      ]
    },
    {
      "cell_type": "markdown",
      "source": [
        "###**실습문제1**\n",
        "1~100까지 짝수만 출력"
      ],
      "metadata": {
        "id": "VQ2K4s6DDAAZ"
      }
    },
    {
      "cell_type": "code",
      "source": [
        "# 범위(1~100) 에서 짝수 출력\n",
        "num = 1\n",
        "while num<=100:\n",
        "  if num%2 == 0:\n",
        "      print(f\"{num}\")\n",
        "  num += 1\n",
        "\n",
        "\n"
      ],
      "metadata": {
        "id": "iQquf4T9DE_z",
        "colab": {
          "base_uri": "https://localhost:8080/"
        },
        "outputId": "2864fb9e-5ab1-4e0e-f460-38112215a7ed"
      },
      "execution_count": null,
      "outputs": [
        {
          "output_type": "stream",
          "name": "stdout",
          "text": [
            "2\n",
            "4\n",
            "6\n",
            "8\n",
            "10\n",
            "12\n",
            "14\n",
            "16\n",
            "18\n",
            "20\n",
            "22\n",
            "24\n",
            "26\n",
            "28\n",
            "30\n",
            "32\n",
            "34\n",
            "36\n",
            "38\n",
            "40\n",
            "42\n",
            "44\n",
            "46\n",
            "48\n",
            "50\n",
            "52\n",
            "54\n",
            "56\n",
            "58\n",
            "60\n",
            "62\n",
            "64\n",
            "66\n",
            "68\n",
            "70\n",
            "72\n",
            "74\n",
            "76\n",
            "78\n",
            "80\n",
            "82\n",
            "84\n",
            "86\n",
            "88\n",
            "90\n",
            "92\n",
            "94\n",
            "96\n",
            "98\n",
            "100\n"
          ]
        }
      ]
    },
    {
      "cell_type": "code",
      "source": [
        "num = 0\n",
        "while num<100:\n",
        "    num += 2\n",
        "    print(f\"{num}\")"
      ],
      "metadata": {
        "colab": {
          "base_uri": "https://localhost:8080/"
        },
        "id": "8u15S1gNIX5c",
        "outputId": "4e99ac0c-1ff4-4abd-9026-67e2f155781f"
      },
      "execution_count": null,
      "outputs": [
        {
          "output_type": "stream",
          "name": "stdout",
          "text": [
            "2\n",
            "4\n",
            "6\n",
            "8\n",
            "10\n",
            "12\n",
            "14\n",
            "16\n",
            "18\n",
            "20\n",
            "22\n",
            "24\n",
            "26\n",
            "28\n",
            "30\n",
            "32\n",
            "34\n",
            "36\n",
            "38\n",
            "40\n",
            "42\n",
            "44\n",
            "46\n",
            "48\n",
            "50\n",
            "52\n",
            "54\n",
            "56\n",
            "58\n",
            "60\n",
            "62\n",
            "64\n",
            "66\n",
            "68\n",
            "70\n",
            "72\n",
            "74\n",
            "76\n",
            "78\n",
            "80\n",
            "82\n",
            "84\n",
            "86\n",
            "88\n",
            "90\n",
            "92\n",
            "94\n",
            "96\n",
            "98\n",
            "100\n"
          ]
        }
      ]
    },
    {
      "cell_type": "markdown",
      "source": [
        "###**실습문제2 변형 1(범위반복)**\n",
        "1~100까지 정수중 사용자가 입력한 수의 배수 출력\n",
        "\n"
      ],
      "metadata": {
        "id": "-4xim1H5DIdS"
      }
    },
    {
      "cell_type": "code",
      "source": [
        "# 범위(1~100) 에서 사용자가 입력한 수의 배수 출력\n",
        "num = input(\"1~100\")\n",
        "while True:\n",
        "  num = input(\"1~100\")\n",
        "  if num%2 == 0:\n",
        "      print(f\"{num}\")\n"
      ],
      "metadata": {
        "id": "A0AHTPgPDJZB"
      },
      "execution_count": null,
      "outputs": []
    },
    {
      "cell_type": "markdown",
      "source": [
        "###**실습문제2 변형2(조건제어반복)**\n",
        "- 사용자가 1에서 100사이의 정수를 정확하게 입력 할 때 까지 입력 작업을 반복"
      ],
      "metadata": {
        "id": "t3o_GLftDMiV"
      }
    },
    {
      "cell_type": "code",
      "source": [
        "# 조건(1에서 100 사이가 아니면) 사용자에게 계속 입력\n",
        "num = 0\n",
        "\n",
        "while num <1 or num >100 :   #while not(1<= num <=100) :\n",
        "    num = int(input(\"정수를 입력 하세요\"))\n",
        "\n",
        "print(f'{num=}')"
      ],
      "metadata": {
        "id": "Rug__ri6DSA6",
        "colab": {
          "base_uri": "https://localhost:8080/"
        },
        "outputId": "80198cf3-ec20-4ff9-9674-7a6b92ae2eaa"
      },
      "execution_count": null,
      "outputs": [
        {
          "output_type": "stream",
          "name": "stdout",
          "text": [
            "정수를 입력 하세요-1\n",
            "정수를 입력 하세요102\n",
            "정수를 입력 하세요105\n",
            "정수를 입력 하세요99\n",
            "num=99\n"
          ]
        }
      ]
    },
    {
      "cell_type": "code",
      "source": [
        "num = 0\n",
        "\n",
        "while True:\n",
        "    num = int(input('정수를 입력하시오 : '))\n",
        "\n",
        "    if( 1<= num <= 100) :\n",
        "        break\n",
        "\n",
        "print(f'{num=}')"
      ],
      "metadata": {
        "colab": {
          "base_uri": "https://localhost:8080/"
        },
        "id": "V38hMPCaKbMT",
        "outputId": "ae195176-fee8-4698-a1b0-c1984d90cf29"
      },
      "execution_count": null,
      "outputs": [
        {
          "output_type": "stream",
          "name": "stdout",
          "text": [
            "정수를 입력하시오 : -1\n",
            "정수를 입력하시오 : 102\n",
            "정수를 입력하시오 : 105\n",
            "정수를 입력하시오 : 55\n",
            "num=55\n"
          ]
        }
      ]
    },
    {
      "cell_type": "code",
      "source": [
        "# 1에서 100까지 짝수 print\n",
        "count = 1\n",
        "while count <=100:\n",
        "   if count % 2 == 0:\n",
        "       print(f'{count}')\n",
        "   count += 1\n",
        "\n",
        "# 1에서 100까지 짝수 더하기\n",
        "sum = 0                     # sum 초기화\n",
        "count = 1\n",
        "while count <=100:\n",
        "   if count % 2 == 0:\n",
        "       sum += count         # 기존 sum에 count값 더해주기\n",
        "       print(f'{count}')\n",
        "   count += 1"
      ],
      "metadata": {
        "colab": {
          "base_uri": "https://localhost:8080/"
        },
        "id": "BnwVE0tib20k",
        "outputId": "5ff69251-9bf2-4cee-88bc-3e03d001e68c"
      },
      "execution_count": null,
      "outputs": [
        {
          "output_type": "stream",
          "name": "stdout",
          "text": [
            "2\n",
            "4\n",
            "6\n",
            "8\n",
            "10\n",
            "12\n",
            "14\n",
            "16\n",
            "18\n",
            "20\n",
            "22\n",
            "24\n",
            "26\n",
            "28\n",
            "30\n",
            "32\n",
            "34\n",
            "36\n",
            "38\n",
            "40\n",
            "42\n",
            "44\n",
            "46\n",
            "48\n",
            "50\n",
            "52\n",
            "54\n",
            "56\n",
            "58\n",
            "60\n",
            "62\n",
            "64\n",
            "66\n",
            "68\n",
            "70\n",
            "72\n",
            "74\n",
            "76\n",
            "78\n",
            "80\n",
            "82\n",
            "84\n",
            "86\n",
            "88\n",
            "90\n",
            "92\n",
            "94\n",
            "96\n",
            "98\n",
            "100\n"
          ]
        }
      ]
    },
    {
      "cell_type": "code",
      "source": [
        "# 7주차 과제 - 참고\n",
        "message = \"\"\"명지대학교(총장 임연수)가 고난주간을 맞아 인문캠퍼스와 자연캠퍼스에서 ‘2025학년도 세족식’을 개최했다. 명지대학교의 세족식은 몸과 마음을 다하여 사랑·진리·봉사를 실천하고 더불어 사는 세상을 만들어 나가고자 하는 명지의 대학이념이 담겨 있다.\n",
        "\n",
        "특히 예수 수난절과 부활절을 맞이하여 개최된 만큼 스승이 제자들의 발을 씻겨주면서 참된 기독교 정신과 섬김의 본을 전하는 의미 깊은 행사로 2001년에 시작하여 올해로 24년째 자리매김하고 있다.\n",
        "\"\"\"\n",
        "print(type(message))\n",
        "print(message)\n",
        "list = message.split()\n",
        "print(list)\n",
        "print(len(message))\n",
        "print(message.find(\"예수\"))\n",
        "print(message.count(\"캠퍼스\"))"
      ],
      "metadata": {
        "id": "knGP7iyQOUMU",
        "colab": {
          "base_uri": "https://localhost:8080/"
        },
        "outputId": "8612c0fc-dcc2-4fa4-e872-238511a0650a"
      },
      "execution_count": null,
      "outputs": [
        {
          "output_type": "stream",
          "name": "stdout",
          "text": [
            "<class 'str'>\n",
            "명지대학교(총장 임연수)가 고난주간을 맞아 인문캠퍼스와 자연캠퍼스에서 ‘2025학년도 세족식’을 개최했다. 명지대학교의 세족식은 몸과 마음을 다하여 사랑·진리·봉사를 실천하고 더불어 사는 세상을 만들어 나가고자 하는 명지의 대학이념이 담겨 있다.\n",
            "\n",
            "특히 예수 수난절과 부활절을 맞이하여 개최된 만큼 스승이 제자들의 발을 씻겨주면서 참된 기독교 정신과 섬김의 본을 전하는 의미 깊은 행사로 2001년에 시작하여 올해로 24년째 자리매김하고 있다.\n",
            "\n",
            "['명지대학교(총장', '임연수)가', '고난주간을', '맞아', '인문캠퍼스와', '자연캠퍼스에서', '‘2025학년도', '세족식’을', '개최했다.', '명지대학교의', '세족식은', '몸과', '마음을', '다하여', '사랑·진리·봉사를', '실천하고', '더불어', '사는', '세상을', '만들어', '나가고자', '하는', '명지의', '대학이념이', '담겨', '있다.', '특히', '예수', '수난절과', '부활절을', '맞이하여', '개최된', '만큼', '스승이', '제자들의', '발을', '씻겨주면서', '참된', '기독교', '정신과', '섬김의', '본을', '전하는', '의미', '깊은', '행사로', '2001년에', '시작하여', '올해로', '24년째', '자리매김하고', '있다.']\n",
            "249\n",
            "142\n",
            "2\n"
          ]
        }
      ]
    }
  ]
}