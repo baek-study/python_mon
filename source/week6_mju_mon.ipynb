{
  "nbformat": 4,
  "nbformat_minor": 0,
  "metadata": {
    "colab": {
      "provenance": []
    },
    "kernelspec": {
      "name": "python3",
      "display_name": "Python 3"
    },
    "language_info": {
      "name": "python"
    }
  },
  "cells": [
    {
      "cell_type": "markdown",
      "source": [
        "### **[6주차 강의] - 파이썬 입문(월)/백혜정 교수**"
      ],
      "metadata": {
        "id": "qO1kjMLadioJ"
      }
    },
    {
      "cell_type": "markdown",
      "source": [
        "### [5주차 퀴즈]\n",
        "더하기/나누기만 가능한 계산기를 만들고자 한다.  \n",
        "- 사용자에게 수행할 연산을 입력 받은 후, 연산 결과를 result에 대입.\n",
        "- num1, num2는 1에서 45까지 임의의 값  (이때, import random 되있다고 가정) <br>\n",
        "1) num1, num2 - 임의의 값 <br>\n",
        "2) op 변수에 수행할 연산을 사용자에게 입력 ( +, /)<br>\n",
        "3) 만약 op 가 '+' 이면 - result = ?<br>\n",
        "4) 그렇지 않고 op 가 '/' 이면 - result = ?<br>\n",
        "5) 그렇지 않으면 (op가 +, / 도 아니면) result = 0 .<br>\n",
        "\n",
        "\n",
        "\n",
        "\n"
      ],
      "metadata": {
        "id": "Sw9_bUhq7KNh"
      }
    },
    {
      "cell_type": "code",
      "source": [
        "import random\n",
        "# 1) 변수 할당 num1, num2 - 임의의 값\n",
        "num1 = random.randint(1,45)\n",
        "num2 = random.randint(1,45)\n",
        "\n",
        "# 2) op 변수에 수행할 연산을 사용자에게 입력 ( +, /)\n",
        "op = input('+또는/ 중 하나를 입력하시오')\n",
        "# 3) 만약 op 가 '+' 이면 - result = ?\n",
        "if op == '+':\n",
        "    result = num1 + num2\n",
        "# 4) 그렇지 않고 op 가 '/' 이면 - result = ?\n",
        "elif op == '/':\n",
        "    result = num1/num2\n",
        "# 5) 그렇지 않으면 (op가 +, / 도 아니면) result = 0\n",
        "else:\n",
        "    result = 0\n",
        "print(op, result)\n"
      ],
      "metadata": {
        "id": "aJNZKjt-BCMC",
        "colab": {
          "base_uri": "https://localhost:8080/"
        },
        "outputId": "2e96046f-7d2c-4e78-d1cb-5459c343651f"
      },
      "execution_count": null,
      "outputs": [
        {
          "output_type": "stream",
          "name": "stdout",
          "text": [
            "+또는/ 중 하나를 입력하시오=\n",
            "= 0\n"
          ]
        }
      ]
    },
    {
      "cell_type": "markdown",
      "source": [
        "\n",
        "\n",
        "---\n",
        "\n"
      ],
      "metadata": {
        "id": "edVgV8T0etzu"
      }
    },
    {
      "cell_type": "markdown",
      "source": [
        "# **1부 문자열 생성 및 조작**\n",
        "\n",
        "\n",
        "*   문자열 생성하기\n",
        "*  문자열 접근(인덱싱, 슬라이싱)\n",
        "* 문자열 연산( +, *, in)\n",
        "\n",
        "\n",
        "\n"
      ],
      "metadata": {
        "id": "5Ig8avpKBfLD"
      }
    },
    {
      "cell_type": "markdown",
      "source": [
        "## **1.1 문자열 생성하기**\n",
        "\n",
        "\n",
        "*  한줄 생성\n",
        "* 여러줄 생성\n",
        "* 이스케이프 문자\n",
        "* \\\\(역슬래시) 이용\n"
      ],
      "metadata": {
        "id": "3VbiMkKhuhg0"
      }
    },
    {
      "cell_type": "code",
      "source": [
        "## 한줄 생성하기 - 큰따옴표 or 작은 따옴표  - 난생처음 파이썬 출력\n",
        "var1=\"난생처음 파이썬\"                    # 큰 따옴표 이용\n",
        "var2='난생처음 파이썬'                     # 작은 따옴표 이용\n",
        "## 여러줄 생성하기 - 삼중 킁 따옴표 or 삼중 작은 따옴표 - 난생처음   파이썬을  열공 중입니다 출력\n",
        "var3 = \"\"\"난생처음\n",
        "파이썬을\n",
        "열공 중입니다.\"\"\"                     # 삼중 큰 따옴표 이용\n",
        "\n",
        "var4= '''난생처음\n",
        "파이썬을\n",
        "열공 중입니다.'''                    # 삼중 작은 따옴표 이용\n",
        "print(var1)\n",
        "print(var2)\n",
        "print(var3)\n",
        "print(var4)\n",
        "\n",
        "## 이스케이프 문자 - \\n, \\t 이용\n",
        "                     # \\n, \\t 이용\n",
        "var5= '난생 처음\\n파이썬\\t'\n",
        "\n",
        "## 소스가 길어질때 \\ 시용 - 여전히 한줄   - 동해물과 백두산이....\n",
        "print('동해물과 백두산이 마르고 닳도록 \\\n",
        "하느님이 보우하사 우리나라 만세')                      # 가독성을 위해 여러 줄에 걸쳐 쓸 때\n"
      ],
      "metadata": {
        "id": "MwLUCDTMujk8",
        "colab": {
          "base_uri": "https://localhost:8080/"
        },
        "outputId": "996f053c-d9f4-4fec-8f9c-cec68f1c3a9a"
      },
      "execution_count": null,
      "outputs": [
        {
          "output_type": "stream",
          "name": "stdout",
          "text": [
            "난생처음 파이썬\n",
            "난생처음 파이썬\n",
            "난생처음\n",
            "파이썬을\n",
            "열공 중입니다.\n",
            "난생처음\n",
            "파이썬을\n",
            "열공 중입니다.\n",
            "동해물과 백두산이 마르고 닳도록 하느님이 보우하사 우리나라 만세\n"
          ]
        }
      ]
    },
    {
      "cell_type": "markdown",
      "source": [
        "## **1.2 문자열 접근**\n",
        "* 인덱싱 : 개별 문자\n",
        "* 슬라이싱: 부분 문자열"
      ],
      "metadata": {
        "id": "zV2NRJFXwNGD"
      }
    },
    {
      "cell_type": "markdown",
      "source": [
        "## 1. 인덱싱 : [index]\n",
        "- 인덱스는 0부터 시작, 특정위치 반환\n"
      ],
      "metadata": {
        "id": "_T9MY12GFnro"
      }
    },
    {
      "cell_type": "code",
      "source": [
        "## 1. 인덱싱 : [index] 특정위치 반환 - 0 부터 시작\n",
        "msg = '안녕하세요'\n",
        "\n",
        "# 0 번째 인덱스\n",
        "print(msg[0])\n",
        "print(msg[-5])\n",
        "# -1번째 인덱스\n",
        "print(msg[-1])\n",
        "print(msg[4])\n",
        "print(msg[5])"
      ],
      "metadata": {
        "id": "wNTjiSLmf7ya",
        "colab": {
          "base_uri": "https://localhost:8080/",
          "height": 261
        },
        "outputId": "0cedb443-33da-46a5-e351-ac27a8401d31"
      },
      "execution_count": null,
      "outputs": [
        {
          "output_type": "stream",
          "name": "stdout",
          "text": [
            "안\n",
            "안\n",
            "요\n",
            "요\n"
          ]
        },
        {
          "output_type": "error",
          "ename": "IndexError",
          "evalue": "string index out of range",
          "traceback": [
            "\u001b[0;31m---------------------------------------------------------------------------\u001b[0m",
            "\u001b[0;31mIndexError\u001b[0m                                Traceback (most recent call last)",
            "\u001b[0;32m<ipython-input-18-b6b2f50807b4>\u001b[0m in \u001b[0;36m<cell line: 0>\u001b[0;34m()\u001b[0m\n\u001b[1;32m      8\u001b[0m \u001b[0mprint\u001b[0m\u001b[0;34m(\u001b[0m\u001b[0mmsg\u001b[0m\u001b[0;34m[\u001b[0m\u001b[0;34m-\u001b[0m\u001b[0;36m1\u001b[0m\u001b[0;34m]\u001b[0m\u001b[0;34m)\u001b[0m\u001b[0;34m\u001b[0m\u001b[0;34m\u001b[0m\u001b[0m\n\u001b[1;32m      9\u001b[0m \u001b[0mprint\u001b[0m\u001b[0;34m(\u001b[0m\u001b[0mmsg\u001b[0m\u001b[0;34m[\u001b[0m\u001b[0;36m4\u001b[0m\u001b[0;34m]\u001b[0m\u001b[0;34m)\u001b[0m\u001b[0;34m\u001b[0m\u001b[0;34m\u001b[0m\u001b[0m\n\u001b[0;32m---> 10\u001b[0;31m \u001b[0mprint\u001b[0m\u001b[0;34m(\u001b[0m\u001b[0mmsg\u001b[0m\u001b[0;34m[\u001b[0m\u001b[0;36m5\u001b[0m\u001b[0;34m]\u001b[0m\u001b[0;34m)\u001b[0m\u001b[0;34m\u001b[0m\u001b[0;34m\u001b[0m\u001b[0m\n\u001b[0m",
            "\u001b[0;31mIndexError\u001b[0m: string index out of range"
          ]
        }
      ]
    },
    {
      "cell_type": "markdown",
      "source": [
        "## 2. 슬라이싱 : [start:end]\n",
        "* 시작부터 끝 직전(끝-1) 위치까지 부분 문자열 반환"
      ],
      "metadata": {
        "id": "cPl3WsbIGJWf"
      }
    },
    {
      "cell_type": "code",
      "source": [
        "## 2. 슬라이싱 : [start:end:step] 시작부터 끝 직전(끝-1) 위치까지 부분 문자열 반환\n",
        "msg = '안녕하세요'\n",
        "# 문자열 인덱스 0 부터 2까지\n",
        "print(msg[0:2]) # 인덱스 0,1\n",
        "# 문자열 인덱스 2부터 5까지\n",
        "print(msg[2:5]) # 인덱스 2,3,4\n",
        "# 문자열 시작 생략 가능 : 문자열 첫 문자부터\n",
        "print(msg[:2])\n",
        "# 문자열 끝 생략 : 문자열 마지막 문자까지\n",
        "print(msg[2:])\n",
        "#  step\n",
        "print(msg[0:4:1])\n",
        "print(msg[0:4:2])"
      ],
      "metadata": {
        "id": "vCXKBZ8ugIPK"
      },
      "execution_count": null,
      "outputs": []
    },
    {
      "cell_type": "code",
      "source": [
        "## 2. 슬라이싱 : 문자열을 2부분으로 나누기\n",
        "\n",
        "msg = \"20250425Rainy\"\n",
        "\n",
        "# date\n",
        "date=msg[:8]\n",
        "\n",
        "# weather\n",
        "weather=msg[8:]\n",
        "\n",
        "# year\n",
        "year=date[:4]\n",
        "\n",
        "# month\n",
        "month=date[4:6]\n",
        "\n",
        "# day\n",
        "day=date[6:8]\n"
      ],
      "metadata": {
        "id": "30a-dUq6kJxF"
      },
      "execution_count": null,
      "outputs": []
    },
    {
      "cell_type": "markdown",
      "source": [
        "## **1.3 문자열 연산**\n",
        "* \\+ : 두 문자열 병합\n",
        "* \\* : 문자 반복\n",
        "* in, not in : 문자열 내 반"
      ],
      "metadata": {
        "id": "cVAu1xgIG698"
      }
    },
    {
      "cell_type": "code",
      "source": [
        "## 3. 문자열 연산 +\n",
        "msg1, msg2 = '안녕', '하세요'  # 다중 할당문\n",
        "\n",
        "# + : 문자간 연결 - msg1, msg2 연결\n",
        "print(msg1 + msg2)\n",
        "print(msg1, msg2)"
      ],
      "metadata": {
        "id": "V010sT7wgU65",
        "colab": {
          "base_uri": "https://localhost:8080/"
        },
        "outputId": "f894a12e-80fb-45a4-e0a7-2f74dbb13f0f"
      },
      "execution_count": null,
      "outputs": [
        {
          "output_type": "stream",
          "name": "stdout",
          "text": [
            "안녕하세요\n",
            "안녕 하세요\n"
          ]
        }
      ]
    },
    {
      "cell_type": "code",
      "source": [
        "## 3. 문자열 연산 *  : 반복\n",
        "# msg1 3번 반복\n",
        "print(msg1*3) #\n",
        "print(3*msg1)\n",
        "#[강의자료 예제]\n",
        "# '*' 다섯번 반복\n",
        "print(\"#\"*5)\n",
        "print(5*\"#\")\n"
      ],
      "metadata": {
        "id": "z8sr_Fm9kllA",
        "colab": {
          "base_uri": "https://localhost:8080/"
        },
        "outputId": "4c84bc78-df08-4c26-841b-6a4e06af41d6"
      },
      "execution_count": null,
      "outputs": [
        {
          "output_type": "stream",
          "name": "stdout",
          "text": [
            "안녕안녕안녕\n",
            "안녕안녕안녕\n",
            "#####\n",
            "#####\n"
          ]
        }
      ]
    },
    {
      "cell_type": "code",
      "source": [
        "## 3. 문자열 연산 in, not in :\n",
        "msg = '안녕하세요'\n",
        "#'안' 문자가 msg에 포함되었는지\n",
        "print('안' in msg)\n",
        "# not in : '안' 문자가 msg에 포함되지 않았는지\n",
        "print('안' not in msg)\n",
        "#[강의자료 예제]\n",
        "text = 'python'\n",
        "\n",
        "#'t'가 text에 있는지\n",
        "print('t' in text)\n",
        "#'T'가 text에 있는지\n",
        "print('T' in text)\n",
        "#'th'가 text에 있는지\n",
        "print('th' in text)\n",
        "#'티'가 text에 있지 않은지\n",
        "print('티' not in text)"
      ],
      "metadata": {
        "id": "iOOoI5-5kgj6",
        "colab": {
          "base_uri": "https://localhost:8080/"
        },
        "outputId": "3c792b4b-e436-44d6-b72e-3ae40eb1ea53"
      },
      "execution_count": null,
      "outputs": [
        {
          "output_type": "stream",
          "name": "stdout",
          "text": [
            "True\n",
            "False\n",
            "True\n",
            "False\n",
            "True\n",
            "True\n"
          ]
        }
      ]
    },
    {
      "cell_type": "markdown",
      "source": [
        "# **2부 함수 - 메소드**\n",
        "\n",
        "*   내장함수 - len(s), max(s), min(s)\n",
        "*   문자열 메소드 - s.split(), s.count(), s.find()"
      ],
      "metadata": {
        "id": "7aNM67W4elNa"
      }
    },
    {
      "cell_type": "markdown",
      "source": [
        "## **2.1 내장 함수**\n",
        "* len(s) : 길이\n",
        "* max(s) : 가장 큰 값\n",
        "* min(s) : 가장 작은"
      ],
      "metadata": {
        "id": "t99l1u83IGmc"
      }
    },
    {
      "cell_type": "code",
      "source": [
        "msg = '파이썬 프로그램은 재밌다'\n",
        "\n",
        "# 길이 함수\n",
        "print(len(msg))\n",
        "# 가장 큰 값 구하는 함수\n",
        "print(max(msg))\n",
        "# 가장 작은 값 구하는 함수\n",
        "print('[', min(msg),']')"
      ],
      "metadata": {
        "id": "AAZYaHOEezeY",
        "colab": {
          "base_uri": "https://localhost:8080/"
        },
        "outputId": "d693732f-cc8e-49ca-f4a2-9970941bfa0a"
      },
      "execution_count": null,
      "outputs": [
        {
          "output_type": "stream",
          "name": "stdout",
          "text": [
            "13\n",
            "프\n",
            "[   ]\n"
          ]
        }
      ]
    },
    {
      "cell_type": "code",
      "source": [
        "#[강의자료 예제] len()을 이용한 문자열 길이 확인 예\n",
        "# 1. num에 사용자에게 정수 입력 - 정수를 입력하세요\n",
        "num = input('정수를 입력하십시오.')\n",
        "# 2. len함수 이용해 길이 지정\n",
        "length = len(num)\n",
        "# 3. 길이 출력\n",
        "print(num,'은', length, '자리 숫자입니다.')"
      ],
      "metadata": {
        "id": "BDHzBPQNlQZC",
        "colab": {
          "base_uri": "https://localhost:8080/"
        },
        "outputId": "085fbe2f-401e-4e39-c8dc-250b6d7a65fd"
      },
      "execution_count": null,
      "outputs": [
        {
          "output_type": "stream",
          "name": "stdout",
          "text": [
            "정수를 입력하십시오.12345\n",
            "12345 은 5 자리 숫자입니다.\n"
          ]
        }
      ]
    },
    {
      "cell_type": "markdown",
      "source": [
        "## **2.2 메소드**\n",
        "* s.split() : 문자열 분리\n",
        "* s.count('단어') : 문자열내 단어 갯수\n",
        "* s.find('단어') : 문자열내 단어 위치"
      ],
      "metadata": {
        "id": "MAomACRJIhzZ"
      }
    },
    {
      "cell_type": "code",
      "source": [
        "msg = 'The python programming is fun'\n",
        "\n",
        "# 문자열 분리\n",
        "print(msg.split())\n",
        "w1, w2, w3, w4, w5 = msg.split()\n",
        "print(w1, w2, w3, w4, w5)\n",
        "\n",
        "# 문자열내 단어 카운트 - 'p', 'px'\n",
        "print(msg.count('p'))\n",
        "print(msg.count('px'))\n",
        "\n",
        "# 문자열내 단어 찾기 -  'p', 'px'\n",
        "print(msg.find('p'))\n",
        "print(msg.find('px'))\n",
        "\n",
        "# 문자열내 단어 바꾸기  replace 'python' - 파이썬\n",
        "print(msg.replace('python', '파이썬'))"
      ],
      "metadata": {
        "id": "vP-IzpdfbNp5",
        "colab": {
          "base_uri": "https://localhost:8080/"
        },
        "outputId": "2dd30294-b62e-4ed3-d502-b099b85c7fe6"
      },
      "execution_count": null,
      "outputs": [
        {
          "output_type": "stream",
          "name": "stdout",
          "text": [
            "['The', 'python', 'programming', 'is', 'fun']\n",
            "The python programming is fun\n",
            "2\n",
            "0\n",
            "4\n",
            "-1\n",
            "The 파이썬 programming is fun\n"
          ]
        }
      ]
    },
    {
      "cell_type": "markdown",
      "source": [
        "## **실습 문제**"
      ],
      "metadata": {
        "id": "oYMgqbeaxcWD"
      }
    },
    {
      "cell_type": "code",
      "source": [
        "#[강의자료 예제]\n",
        "msg = 'life is too short'\n",
        "print(msg.split())\n",
        "# msg 분리 후, 변수 w1,w2, w3, w4 에 넣4기\n",
        "w1, w2, w3, w4 = msg.split(' ')\n",
        "print(w1, w2, w3, w4)\n",
        "\n",
        "today =\"2025/04/14\"\n",
        "\n",
        "# year, month, day 에 분리 메소드 이용\n",
        "year, month, day = today.split('/')\n",
        "print(year, month, day)"
      ],
      "metadata": {
        "id": "fLlf5nFNxTF0",
        "colab": {
          "base_uri": "https://localhost:8080/"
        },
        "outputId": "a8861d8a-ec51-45e6-b2e6-11ac119394d8"
      },
      "execution_count": null,
      "outputs": [
        {
          "output_type": "stream",
          "name": "stdout",
          "text": [
            "['life', 'is', 'too', 'short']\n",
            "life is too short\n",
            "2025 04 14\n"
          ]
        }
      ]
    },
    {
      "cell_type": "code",
      "source": [
        "#[강의자료 예제]\n",
        "week = '월화수목금금금'\n",
        "\n",
        "# '금' 갯수 세기\n",
        "print(week.count('금'))\n",
        "\n",
        "# '금' 찾기\n",
        "print(week.find('금'))\n",
        "\n",
        "# '금' 찾기, 인덱스 5 이후\n",
        "print(week.find('금', 5))\n",
        "\n",
        "# '금' 찾기, 오른쪽에서 부터 찾기\n",
        "print(week.rfind('금'))"
      ],
      "metadata": {
        "id": "Xvhc7GehmL3B"
      },
      "execution_count": null,
      "outputs": []
    },
    {
      "cell_type": "code",
      "source": [
        "# 국어 점수, 수학 점수, 과학 점수\n",
        "\n",
        "scores = input(\"국어점수 수학점수 과학 점수를 입력하시오 :\")\n",
        "print(scores.split())\n",
        "kor, math, science = scores.split()\n",
        "print(kor, math, science)"
      ],
      "metadata": {
        "colab": {
          "base_uri": "https://localhost:8080/"
        },
        "id": "mMlH-CtzDnGp",
        "outputId": "5b5bc797-a3e9-41f9-9e9a-8a80a98c5972"
      },
      "execution_count": null,
      "outputs": [
        {
          "output_type": "stream",
          "name": "stdout",
          "text": [
            "국어점수 수학점수 과학 점수를 입력하시오 :95 100 99\n",
            "['95', '100', '99']\n",
            "95 100 99\n"
          ]
        }
      ]
    },
    {
      "cell_type": "code",
      "source": [
        "kor, math, science = input(\"국어점수 수학 점수 과학 점수를 입력 \").split(\n",
        ")\n",
        "kor = int(kor)\n",
        "math = int(math)\n",
        "science = int(science)\n",
        "\n",
        "average = (kor+math+science)/3"
      ],
      "metadata": {
        "id": "eYIo1CFqERDf"
      },
      "execution_count": null,
      "outputs": []
    },
    {
      "cell_type": "markdown",
      "source": [
        "# 3.3 문자열 서식 은 7주차 **수업으로**"
      ],
      "metadata": {
        "id": "Towmi5D2zybi"
      }
    },
    {
      "cell_type": "markdown",
      "source": [
        "### 실습 문제\n",
        "입력한 연도가 윤년인지 아닌지를 판단하여 화면에 출력하는 프로그램을 작성\n",
        "\n",
        "\n",
        "*  율리우스력 : 입력 년도를 4로 나눈 나머지가 0이면 윤년\n",
        "*  그레고리력 <br>\n",
        "입력 년도를 4로 나눈 나머지가 0 이고,\n",
        "     100으로 나눈 나머지가 0이 아니면 윤년<br>\n",
        "400 으로 나누어 떨어지면 윤년\n"
      ],
      "metadata": {
        "id": "Vg51La9RqxMp"
      }
    },
    {
      "cell_type": "code",
      "source": [
        "# year 사용자 입력 - 년도를 입력하시오\n",
        "year=int(input('년도를 입력하시오'))\n",
        "# 율리우스력\n",
        "# 만약 년도가 4로 나눈 나머지가 0 이면\n",
        "if year%4==0:\n",
        "    print(year,'은 율리우스력으로 윤년입니다.')\n",
        "else:\n",
        "    print(year,'은 율리우스력으로 윤년이 아닙니다.')\n",
        "\n",
        "# 그레고리력 - 먼저 조건식 먼저\n",
        "# (1) 년도가 4로 나눈 나머지가 0 이고, 100으로 나눈 나머지가 0이 아닌 경우\n",
        "# year%4==0 and year%100!=0\n",
        "# (2) 년도가 400으로 나눈 나머지가 0인 경우 윤년\n",
        "#year%400 == 0\n",
        "\n",
        "if (year%4==0 and year%100!=0) or (year%400 == 0 ) :\n",
        "    print(year,'은 그레고리력으로 윤년입니다.')\n",
        "else :\n",
        "    print( year, '은 그레고리력으로 윤년이 아닙니다.')\n"
      ],
      "metadata": {
        "id": "Q9ewcWtcq3iJ",
        "colab": {
          "base_uri": "https://localhost:8080/"
        },
        "outputId": "d8850ac1-2f78-4b38-e73e-b1ecd0149887"
      },
      "execution_count": null,
      "outputs": [
        {
          "output_type": "stream",
          "name": "stdout",
          "text": [
            "년도를 입력하시오2200\n",
            "2200 은 율리우스력으로 윤년입니다.\n",
            "2200 은 그레고리력으로 윤년이 아닙니다.\n"
          ]
        }
      ]
    }
  ]
}