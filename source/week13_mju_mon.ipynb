{
  "nbformat": 4,
  "nbformat_minor": 0,
  "metadata": {
    "colab": {
      "provenance": []
    },
    "kernelspec": {
      "name": "python3",
      "display_name": "Python 3"
    },
    "language_info": {
      "name": "python"
    }
  },
  "cells": [
    {
      "cell_type": "markdown",
      "source": [
        "### **[13주차 강의] - 파이썬 입문(월)/백혜정 교수**"
      ],
      "metadata": {
        "id": "ZDqRAIoJwHdG"
      }
    },
    {
      "cell_type": "markdown",
      "source": [
        "## **리뷰: 리스트 반복**\n",
        "\n",
        "*  리스트 이용 : for 변수 in 리스트 : # 변수 - 요소값\n",
        "* range() 이용 : for 변수 in range(0, len(리스트)) : #변수 - 인덱스\n"
      ],
      "metadata": {
        "id": "EVCkaJXuIznA"
      }
    },
    {
      "cell_type": "markdown",
      "source": [
        "### 퀴즈\n",
        "list1에 정수 5개 값을 초기화 <br>\n",
        "target 리스트에 깊은 복사 수행<br>\n",
        "target 리스트에 100 추가<br>\n",
        "target 리스트 요소 값을 출력 (for 이용)<br>"
      ],
      "metadata": {
        "id": "7-izTRNvKJoG"
      }
    },
    {
      "cell_type": "code",
      "source": [
        "# list1에 정수 5개 값을 초기화\n",
        "list1 = [10, 20, 30, 40, 50]\n",
        "# target 리스트에 깊은 복사 수행\n",
        "target = list1[:]   # target = list(list1)\n",
        "\n",
        "# target 리스트에 100 추가\n",
        "target.append(100)\n",
        "\n",
        "#  target 리스트 요소 값을 출력 (for 이용) - 반복\n",
        "for item in target:   # for element in target:\n",
        "    print(f\"{item}\")\n",
        "\n",
        "# target 리스트 인덱스 이용해 출력\n",
        "for i in range(len(target)) :\n",
        "    print(f\"{target[i]=}\")"
      ],
      "metadata": {
        "id": "QOiXr7CaKDY_",
        "colab": {
          "base_uri": "https://localhost:8080/"
        },
        "outputId": "92d9113e-8f92-42d1-e4d4-7da6d88451e8"
      },
      "execution_count": null,
      "outputs": [
        {
          "output_type": "stream",
          "name": "stdout",
          "text": [
            "10\n",
            "20\n",
            "30\n",
            "40\n",
            "50\n",
            "100\n",
            "target[i]=10\n",
            "target[i]=20\n",
            "target[i]=30\n",
            "target[i]=40\n",
            "target[i]=50\n",
            "target[i]=100\n"
          ]
        }
      ]
    },
    {
      "cell_type": "markdown",
      "source": [
        "# **1부 리스트 동작**\n",
        "\n",
        "*  내장함수 : 파이썬에서 제공 함수 - len(리스트이름)\n",
        "* 메소드 : 리스트 객체내의 함수 -리스트이름.append()"
      ],
      "metadata": {
        "id": "wrERPa6C-Yzg"
      }
    },
    {
      "cell_type": "markdown",
      "source": [
        "##**3.1 내장함수**\n",
        "\n",
        "*   len(리스트) : 리스트 길이\n",
        "* max(리스트) : 리스트내의 max 값\n",
        "* min(리스트) : 리스트내의 min 값\n"
      ],
      "metadata": {
        "id": "t0gp0vA0_Cyv"
      }
    },
    {
      "cell_type": "markdown",
      "source": [
        "##**3.2 주요 리스트 메소드**\n",
        "\n",
        "\n",
        "* 추가 : append(값), insert(삽입위치, 값)\n",
        "* 삭제 : del 리스트[삭제인덱스], remove(값)\n",
        "* 찾기 : index(값)\n",
        "* 개수 : count(값) # 없는 경우 0 리턴"
      ],
      "metadata": {
        "id": "MCzTKLGD_I1v"
      }
    },
    {
      "cell_type": "code",
      "source": [
        "nums = [11, 22, 33]\n",
        "\n",
        "#1. 리스트에 요소 추가\n",
        "#append(값) 함수 - 리스트 제일 뒤에 55 추가\n",
        "nums.append(55)\n",
        "nums.append(77)\n",
        "\n",
        "print(f\"삽입후 -- {nums=}\")\n",
        "\n",
        "#insert(삽입위치, 값) 함수 - (특정) 삽입위치 앞에 데이터 추가 3위치에 4 넣기\n",
        "nums.insert(3, 4)\n",
        "#insert(삽입위치, 값) 함수 - 마지막 요소 앞에 50 삽입\n",
        "nums.insert(-1, 50)\n",
        "\n",
        "print(f\"insert 삽입후 -- {nums=}\")\n",
        "\n",
        "nums = [11, 22, 33, 0, 11, 22, 33]\n",
        "#2. 리스트에 요소 삭제\n",
        "#del 키워드 -리스트 인덱싱이나 슬라이싱을 이용하여 요소를  선택하여 삭제\n",
        "# 인덱스 1 삭제\n",
        "del nums[1]\n",
        "print(f\"삭제 후 -- {nums=}\")\n",
        "\n",
        "# 인덱스 2,3 삭제 -> 슬라이싱\n",
        "del nums[2:4]\n",
        "print(f\"삭제 후 -- {nums=}\")\n",
        "\n",
        "#remove 함수 - 리스트에서 요소 값과 일치하는 첫번째 요소만 삭제 *한 번만 삭제\n",
        "# 요소가 33값 삭제\n",
        "nums.remove(33)\n",
        "print(f\"remove 33 삭제 후 -- {nums=}\")\n",
        "\n",
        "nums = [11,22,33,44,33]\n",
        "#2. 리스트에 요소 찾기\n",
        "#index(값)함수 - 특정 요소의 인덱스 위치 반환\n",
        "# nums 리스트에 33 의 인덱스\n",
        "print(f'{nums.index(33)=}')\n",
        "# print(f'{nums.index(66)=}')\n",
        "\n",
        "#count(값)함수 - 값 이 일치하는 요소 개수 세기\n",
        "# nums 리스트에 33이 몇 개?\n",
        "print(f'{nums.count(33)=}')\n",
        "\n",
        "\n",
        "temps = [11, 3, 8, 22, 105, 1, -6]\n",
        "temps.sort()   # 정렬\n",
        "\n",
        "print(f'{temps}')\n",
        "\n",
        "temps.reverse()  # 역순\n",
        "\n",
        "print(f'{temps}')\n"
      ],
      "metadata": {
        "id": "VgayC0ne_d1_",
        "colab": {
          "base_uri": "https://localhost:8080/"
        },
        "outputId": "be7d409f-e4e5-451b-b3fd-24f53dbf071a"
      },
      "execution_count": null,
      "outputs": [
        {
          "output_type": "stream",
          "name": "stdout",
          "text": [
            "삽입후 -- nums=[11, 22, 33, 55, 77]\n",
            "insert 삽입후 -- nums=[11, 22, 33, 4, 55, 50, 77]\n",
            "삭제 후 -- nums=[11, 33, 0, 11, 22, 33]\n",
            "삭제 후 -- nums=[11, 33, 22, 33]\n",
            "remove 33 삭제 후 -- nums=[11, 22, 33]\n",
            "nums.index(33)=2\n",
            "nums.count(33)=2\n",
            "[-6, 1, 3, 8, 11, 22, 105]\n",
            "[105, 22, 11, 8, 3, 1, -6]\n"
          ]
        }
      ]
    },
    {
      "cell_type": "markdown",
      "source": [
        "### 친구 관리 프로그램\n",
        "--------------------\n",
        "1. 친구 리스트 출력\n",
        "2. 친구추가\n",
        "3. 친구삭제\n",
        "9. 종료\n",
        "메뉴를 선택하시오: 2\n",
        "이름을 입력하시오: 홍길동"
      ],
      "metadata": {
        "id": "jgSFcaE5AMtP"
      }
    },
    {
      "cell_type": "code",
      "source": [
        "# 1. 변수 menu\n",
        "menu_selection = -1\n",
        "\n",
        "# 2. 리스트 friends - 빈리스트\n",
        "friends = []\n",
        "\n",
        "# 3. 무한 반복 - 친구 관리 메뉴 보기 & 선택 & 실행\n",
        "while True:\n",
        "    # 3.1 메뉴 목록\n",
        "    print(\"--------------------\")\n",
        "    print(\"1. 친구 리스트 출력\")\n",
        "    print(\"2. 친구추가\")\n",
        "    print(\"3. 친구삭제\")\n",
        "    print(\"4. 친구검색\")\n",
        "    print(\"9. 종료\")\n",
        "\n",
        "    # 3.2 사용자 입력(menu) - 메뉴를 선택하시오:\n",
        "    menu_selection = int(input(\"메뉴를 선택하시오 : \"))\n",
        "\n",
        "    # 3.3 조건\n",
        "    # 1이면 친구 리스트 출력\n",
        "    if menu_selection == 1:\n",
        "        for item in friends:   # print(friends)\n",
        "            print(item)\n",
        "     # 2이면, 사용자 입력(name) - 이름을 입력 하시오 => 친구 리스트에 추가\n",
        "    elif menu_selection == 2:\n",
        "        name = input(\"이름을 입력 하시오\")\n",
        "        friends.append(name)\n",
        "    # 3이면, 사용자 입력(del_name) - 삭제할 이름을 입력 하시오 =>\n",
        "    elif menu_selection == 3:\n",
        "        name = input(\"삭제할 이름을 입력 하시오\")\n",
        "      # 조건 - 삭제할 친구 이름이 친구 리스트에 있으면 삭제하고, 그렇지 않으면 '친구리스트에 없습니다.' 출력\n",
        "        if name in friends:\n",
        "           friends.remove(name)\n",
        "        else :\n",
        "            print(f'친구리스트에 {name}이 없습니다.')\n",
        "    #4 이면, 사용자 검색\n",
        "    elif menu_selection == 4:\n",
        "        name = input(\"검색할 이름을 입력 하시오\")\n",
        "      # 조건 - 검색할 친구 이름이 친구 리스트에 있으면 검색하고, 그렇지 않으면 '친구리스트에 없습니다.' 출력\n",
        "        if name in friends:\n",
        "           idx = friends.index(name)\n",
        "           print(f'친구리스트 {idx+1} 번째 저장되어 있습니다.')\n",
        "        else :\n",
        "            print(f'친구리스트에 {name}이 없습니다.')\n",
        "    # 9 이면 종료...\n",
        "    elif menu_selection == 9:\n",
        "        break\n",
        "    else :\n",
        "        print(\"유효하지 않은 메뉴 입니다. 다시 입력\")\n"
      ],
      "metadata": {
        "id": "HpfBjuG-ANvP",
        "colab": {
          "base_uri": "https://localhost:8080/"
        },
        "outputId": "6a5ccbda-b4a5-4e2b-9159-28a956b86589"
      },
      "execution_count": 42,
      "outputs": [
        {
          "name": "stdout",
          "output_type": "stream",
          "text": [
            "--------------------\n",
            "1. 친구 리스트 출력\n",
            "2. 친구추가\n",
            "3. 친구삭제\n",
            "4. 친구검색\n",
            "9. 종료\n",
            "메뉴를 선택하시오 : 2\n",
            "이름을 입력 하시오홍길동\n",
            "--------------------\n",
            "1. 친구 리스트 출력\n",
            "2. 친구추가\n",
            "3. 친구삭제\n",
            "4. 친구검색\n",
            "9. 종료\n",
            "메뉴를 선택하시오 : 2\n",
            "이름을 입력 하시오김명지\n",
            "--------------------\n",
            "1. 친구 리스트 출력\n",
            "2. 친구추가\n",
            "3. 친구삭제\n",
            "4. 친구검색\n",
            "9. 종료\n",
            "메뉴를 선택하시오 : 1\n",
            "홍길동\n",
            "김명지\n",
            "--------------------\n",
            "1. 친구 리스트 출력\n",
            "2. 친구추가\n",
            "3. 친구삭제\n",
            "4. 친구검색\n",
            "9. 종료\n",
            "메뉴를 선택하시오 : 4\n",
            "검색할 이름을 입력 하시오김명지\n",
            "친구리스트 2 번째 저장되어 있습니다.\n",
            "--------------------\n",
            "1. 친구 리스트 출력\n",
            "2. 친구추가\n",
            "3. 친구삭제\n",
            "4. 친구검색\n",
            "9. 종료\n",
            "메뉴를 선택하시오 : 4\n",
            "검색할 이름을 입력 하시오김대한\n",
            "친구리스트에 김대한이 없습니다.\n",
            "--------------------\n",
            "1. 친구 리스트 출력\n",
            "2. 친구추가\n",
            "3. 친구삭제\n",
            "4. 친구검색\n",
            "9. 종료\n",
            "메뉴를 선택하시오 : 3\n",
            "삭제할 이름을 입력 하시오홍길동\n",
            "--------------------\n",
            "1. 친구 리스트 출력\n",
            "2. 친구추가\n",
            "3. 친구삭제\n",
            "4. 친구검색\n",
            "9. 종료\n",
            "메뉴를 선택하시오 : 1\n",
            "김명지\n",
            "--------------------\n",
            "1. 친구 리스트 출력\n",
            "2. 친구추가\n",
            "3. 친구삭제\n",
            "4. 친구검색\n",
            "9. 종료\n",
            "메뉴를 선택하시오 : 9\n"
          ]
        }
      ]
    },
    {
      "cell_type": "markdown",
      "source": [
        "# **2부 복합자료형과 함수**\n",
        "\n",
        "리스트와 딕셔너리가 함수의 매개변수, 반환형인 경우\n",
        "\n",
        "\n"
      ],
      "metadata": {
        "id": "f-xkcedf6rli"
      }
    },
    {
      "cell_type": "markdown",
      "source": [
        "## **2.1 매개변수로서 리스트**\n",
        "\n",
        "\n",
        "* 리스트를 매개변수로 전달\n",
        "* 함수안에서 리스트 객체 변경시 - 새로운 리스트로 대입\n",
        "\n"
      ],
      "metadata": {
        "id": "8qPQebzSARjc"
      }
    },
    {
      "cell_type": "code",
      "source": [
        "# 1. 리스트가 매개변수 일때 - 단지 사용만\n",
        "#func1 정의\n",
        "def func1(list1) :\n",
        "    print(f'함수안 -- {list1=}')\n",
        "    print(id(list1))\n",
        "\n",
        "values = [0, 1, 2, 3, 4, 5, 6]\n",
        "#func1 호출\n",
        "func1(values)\n",
        "# values 출력\n",
        "print(f'함수 밖 -- {values=}')\n",
        "print(id(values))"
      ],
      "metadata": {
        "id": "8F2vnsTuBWYP",
        "colab": {
          "base_uri": "https://localhost:8080/"
        },
        "outputId": "b5b0e7ba-7ad9-49fc-92b0-1931192413d7"
      },
      "execution_count": null,
      "outputs": [
        {
          "output_type": "stream",
          "name": "stdout",
          "text": [
            "함수안 -- list1=[0, 1, 2, 3, 4, 5, 6]\n",
            "134321184469504\n",
            "함수 밖 -- values=[0, 1, 2, 3, 4, 5, 6]\n",
            "134321184469504\n"
          ]
        }
      ]
    },
    {
      "cell_type": "code",
      "source": [
        "# 2. 리스트가 매개변수 일때 - 리스트의 원소를 수정할때\n",
        "#func2 정의  - 리스트의 0 번째를 99로 수정\n",
        "def func2(list1) :\n",
        "    list1[0] = 99\n",
        "    list1 = [ 28, 31, 33, 35, 27, 26, 25]\n",
        "    print(f'함수안 -- {list1=}')\n",
        "    print(id(list1))\n",
        "\n",
        "values = [0, 1, 1, 2, 3, 5, 8]\n",
        "# func2 호출\n",
        "func2(values)\n",
        "# values 출력\n",
        "print(f'함수 밖 -- {values=}')\n",
        "print(id(values))\n"
      ],
      "metadata": {
        "id": "t-BekBUvBYdO",
        "colab": {
          "base_uri": "https://localhost:8080/"
        },
        "outputId": "20faf43c-b7d5-4c85-bdc5-86940751c303"
      },
      "execution_count": null,
      "outputs": [
        {
          "output_type": "stream",
          "name": "stdout",
          "text": [
            "함수안 -- list1=[99, 1, 1, 2, 3, 5, 8]\n",
            "134321201104320\n",
            "함수 밖 -- values=[99, 1, 1, 2, 3, 5, 8]\n",
            "134321201104320\n"
          ]
        }
      ]
    },
    {
      "cell_type": "code",
      "source": [
        "# 3. 리스트가 매개변수 일때 - 리스트의 자체를 새로운 것으로 수정할때\n",
        "# func3 정의\n",
        "# list를 새로운 리스트로 변경 [ 28, 31, 33, 35, 27, 26, 25]\n",
        "def func3(list1) :\n",
        "    list1 = [ 28, 31, 33, 35, 27, 26, 25]\n",
        "    print(f'함수안 -- {list1=}')\n",
        "    print(id(list1))\n",
        "\n",
        "values = [0, 1, 1, 2, 3, 5, 8 ]\n",
        "\n",
        "# func3 함수 호출\n",
        "func3(values)\n",
        "# values 출력\n",
        "print(f'함수 밖 -- {values=}')\n",
        "print(id(values))\n"
      ],
      "metadata": {
        "id": "Kyd6GMIx65Bq",
        "colab": {
          "base_uri": "https://localhost:8080/"
        },
        "outputId": "01f2a2dd-2c8f-496f-f90b-a16a952038f5"
      },
      "execution_count": null,
      "outputs": [
        {
          "output_type": "stream",
          "name": "stdout",
          "text": [
            "함수안 -- list1=[28, 31, 33, 35, 27, 26, 25]\n",
            "134321185295936\n",
            "함수 밖 -- values=[0, 1, 1, 2, 3, 5, 8]\n",
            "134321476271232\n"
          ]
        }
      ]
    },
    {
      "cell_type": "markdown",
      "source": [
        "## **2.2 반환형으로서 리스트**"
      ],
      "metadata": {
        "id": "CxueWLNXC4KW"
      }
    },
    {
      "cell_type": "code",
      "source": [
        "# 4. 리스트가 반환형 일 때\n",
        "# func4 정의\n",
        "# list를 새로운 리스트 생성 [11, 22, 33, 44, 55]\n",
        "    # 리스트를 임의로 하나 생성\n",
        "    # 그 리스트를 반환\n",
        "def func4() :\n",
        "    list1 = [11, 22, 33, 44, 55]\n",
        "    return list1\n",
        "\n",
        "# func4 함수 호출\n",
        "values = func4()\n",
        "# values 출력\n",
        "print(f'{values=}')\n"
      ],
      "metadata": {
        "id": "CiyPtpUlBhpm",
        "colab": {
          "base_uri": "https://localhost:8080/"
        },
        "outputId": "2a9f3fde-ca30-475e-94a6-262c61c399ec"
      },
      "execution_count": null,
      "outputs": [
        {
          "output_type": "stream",
          "name": "stdout",
          "text": [
            "values=[11, 22, 33, 44, 55]\n"
          ]
        }
      ]
    },
    {
      "cell_type": "markdown",
      "source": [
        "### 실습 문제\n",
        "사용자로부터 정수를 4개 입력 받아 리스트에 저장한 후, 화면에 출력하는 프로그램을 작성하시오.\n",
        "\n",
        "준수사항: 다음 2개의 함수를 정의하여 프로그램에 활용\n",
        "\n",
        "input_list() : 빈 리스트를 만들고 사용자에게 정수 4개를 입력 받아 리스트에 저장한 후, 해당 리스트를 호출측에 반환하는 함수\n",
        "\n",
        "print_list(p) : 리스트를 전달받아 모든 요소를 순서대로 출력하는 함수\n",
        "\n",
        "---\n",
        "1번째 정수: 3\n",
        "2번째 정수: 5\n",
        "3번째 정수: 7\n",
        "4번째 정수: 9\n",
        "리스트의 1번째 요소 3\n",
        "리스트의 2번째 요소 5\n",
        "리스트의 3번째 요소 7\n",
        "리스트의 4번째 요소 9\n",
        "\n",
        "\n"
      ],
      "metadata": {
        "id": "a5KjjuHvCJ7v"
      }
    },
    {
      "cell_type": "code",
      "source": [
        "#############################\n",
        "## quest 1\n",
        "# 리스트가 반환형인 경우  - 사용자에게 입력 4번 받아서... 리스트로 생성\n",
        "# input_list()\n",
        "def input_list():\n",
        "    list1 = []\n",
        "    for i in range(0,4):\n",
        "        num = int(input(\"정수 입력 : \"))\n",
        "        list1.append(num)\n",
        "    return list1\n",
        "\n",
        "# 리스트가 매개변수인 경우 - 리스트 내용을 출력\n",
        "# print_list(p)\n",
        "def print_list(list1) :\n",
        "    for item in list1:\n",
        "        print(item)\n",
        "\n",
        "values = input_list()\n",
        "#print(f'{values=}')\n",
        "print_list(values)\n"
      ],
      "metadata": {
        "id": "3BiPMKaVGL27",
        "colab": {
          "base_uri": "https://localhost:8080/"
        },
        "outputId": "b42128ae-fd2b-42dd-cf2c-0882b8b99108"
      },
      "execution_count": null,
      "outputs": [
        {
          "output_type": "stream",
          "name": "stdout",
          "text": [
            "정수 입력 : 3\n",
            "정수 입력 : 5\n",
            "정수 입력 : 7\n",
            "정수 입력 : 9\n",
            "3\n",
            "5\n",
            "7\n",
            "9\n"
          ]
        }
      ]
    },
    {
      "cell_type": "markdown",
      "source": [
        "## **2.3 리스트 함축**\n",
        "\n",
        "\n",
        "## **[수식 for (변수 in 리스트) if (조건) ]**"
      ],
      "metadata": {
        "id": "EEHH5QTNCsAu"
      }
    },
    {
      "cell_type": "code",
      "source": [
        "# 0 에서 9 까지의 제곱 값의 리스트 생성하기\n",
        "# 일반적인 경우\n",
        "list1 =[]\n",
        "\n",
        "for x in range(10):\n",
        "    list1.append(x*x)\n",
        "\n",
        "print(f'{list1=}')\n",
        "\n",
        "# 리스트 함축인 경우\n",
        "list2 = [x*x for x in range(10)]\n",
        "\n",
        "print(f'{list2=}')\n"
      ],
      "metadata": {
        "id": "tIJ77kfiDQdO",
        "colab": {
          "base_uri": "https://localhost:8080/"
        },
        "outputId": "d0c4fcc7-266e-4a28-de02-12bf6317cfd2"
      },
      "execution_count": null,
      "outputs": [
        {
          "output_type": "stream",
          "name": "stdout",
          "text": [
            "list1=[0, 1, 4, 9, 16, 25, 36, 49, 64, 81]\n",
            "list2=[0, 1, 4, 9, 16, 25, 36, 49, 64, 81]\n"
          ]
        }
      ]
    },
    {
      "cell_type": "code",
      "source": [
        "data = [1,2,3,4,7]\n",
        "# [3,4,5,6,9]\n",
        "list1 = [x+2 for x in data]\n",
        "print(f'{list1=}')"
      ],
      "metadata": {
        "colab": {
          "base_uri": "https://localhost:8080/"
        },
        "id": "JsASellfdr4B",
        "outputId": "f4dd963b-2711-4c59-ada0-06656830eeae"
      },
      "execution_count": null,
      "outputs": [
        {
          "output_type": "stream",
          "name": "stdout",
          "text": [
            "list1=[3, 4, 5, 6, 9]\n"
          ]
        }
      ]
    },
    {
      "cell_type": "code",
      "source": [
        "# # 0 에서 9 까지 짝수만 제곱 값의 리스트 생성하기\n",
        "# 일반적인 경우\n",
        "list1 =[]\n",
        "\n",
        "for x in range(10):\n",
        "    if x%2 == 0 :\n",
        "        list1.append(x*x)\n",
        "\n",
        "print(f'{list1=}')\n",
        "\n",
        "# 리스트 함축인 경우\n",
        "list2 = [x*x for x in range(10) if x%2 == 0  ]\n",
        "\n",
        "print(f'{list2=}')\n"
      ],
      "metadata": {
        "id": "c4N9rgIpDt9e",
        "colab": {
          "base_uri": "https://localhost:8080/"
        },
        "outputId": "937d2306-4686-4427-b846-0359cc14893e"
      },
      "execution_count": null,
      "outputs": [
        {
          "output_type": "stream",
          "name": "stdout",
          "text": [
            "list1=[0, 4, 16, 36, 64]\n",
            "list2=[0, 4, 16, 36, 64]\n"
          ]
        }
      ]
    },
    {
      "cell_type": "code",
      "source": [
        "words = [\"All\", \"good\", \"things\", \"must\", \"come\", \"to\", \"an\", \"end.\"]\n",
        "# 다음 리스트 중 첫글자만 이용\n",
        "# 일반적인 경우\n",
        "list1= []\n",
        "for item in words:\n",
        "    print(item[0])\n",
        "    list1.append(item[0])\n",
        "\n",
        "# 리스트 함축인 경우\n",
        "list2 = [item[0] for item in words ]\n",
        "print(list2)"
      ],
      "metadata": {
        "id": "cuBch1dMD1w-",
        "colab": {
          "base_uri": "https://localhost:8080/"
        },
        "outputId": "6414930c-c17c-40ae-bcd1-9281dde746d1"
      },
      "execution_count": null,
      "outputs": [
        {
          "output_type": "stream",
          "name": "stdout",
          "text": [
            "A\n",
            "g\n",
            "t\n",
            "m\n",
            "c\n",
            "t\n",
            "a\n",
            "e\n",
            "['A', 'g', 't', 'm', 'c', 't', 'a', 'e']\n"
          ]
        }
      ]
    },
    {
      "cell_type": "code",
      "source": [
        "# 0에서 99 까지 정수 중 2의 배수이고 3이 배수 인 것 - 일반적\n",
        "list1 = []\n",
        "\n",
        "for i in range(100) :\n",
        "    if (i%2==0 and i%3==0):\n",
        "        list1.append(i)\n",
        "\n",
        "print(f'{list1=}')\n",
        "\n",
        "# 0에서 99 까지 정수 중 2의 배수이고 3이 배수 인 것 - 리스트 함축\n",
        "list2 = [i for i in range(100) if (i%2==0 and i%3==0)]\n",
        "\n",
        "print(f'{list2=}')\n"
      ],
      "metadata": {
        "id": "IbzC5XjqEHTy",
        "colab": {
          "base_uri": "https://localhost:8080/"
        },
        "outputId": "bd3cb7c4-83b8-4d86-9d57-b5e21f44fde3"
      },
      "execution_count": 44,
      "outputs": [
        {
          "output_type": "stream",
          "name": "stdout",
          "text": [
            "list1=[0, 6, 12, 18, 24, 30, 36, 42, 48, 54, 60, 66, 72, 78, 84, 90, 96]\n",
            "list2=[0, 6, 12, 18, 24, 30, 36, 42, 48, 54, 60, 66, 72, 78, 84, 90, 96]\n"
          ]
        }
      ]
    },
    {
      "cell_type": "markdown",
      "source": [
        "## **[시험제외, 심화학습] 2.4 이중리스트**\n",
        "\n",
        "* 리스트의 리스트 :  scores = [[1,2], [3,4]]\n",
        "* 중첩 for 를 이용하여 반복"
      ],
      "metadata": {
        "id": "gE-88k6sQkGz"
      }
    },
    {
      "cell_type": "code",
      "source": [
        "#1. 이중 리스트 - 생성 - '홍길동', 90, 80, 'mju', 95, 100]\n",
        "\n",
        "#2. 이중리스트와 반복 - 중첩 for - 리스트 객체, 인덱스를 이용\n",
        "#2.1 중첩 for - 리스트 객체\n",
        "\n",
        "#2.2 중첩 for - 인덱스 이용\n"
      ],
      "metadata": {
        "id": "fYvzuy4eQnvL"
      },
      "execution_count": null,
      "outputs": []
    },
    {
      "cell_type": "markdown",
      "source": [
        "# **3부 파일 Preview**\n",
        "\n",
        "\n",
        "*  3단계 : 파일 열기(open()) - 읽고/쓰기 - 파일 닫기(close())\n"
      ],
      "metadata": {
        "id": "NFUFwvUiA-mj"
      }
    },
    {
      "cell_type": "code",
      "source": [
        "# 파일 열고 닫기\n",
        "\n",
        "# 파일 쓰기 모드로 열기 - 닫기\n",
        "outfile = open(\"example.txt\", \"w\")\n",
        "outfile.close()\n",
        "# 파일 읽기 모드로 열기 - 닫기\n",
        "infile = open(\"example.txt\", \"r\")\n",
        "infile.close()\n"
      ],
      "metadata": {
        "id": "A4OELnMiG01u"
      },
      "execution_count": null,
      "outputs": []
    },
    {
      "cell_type": "markdown",
      "source": [
        "\n",
        "\n",
        "* 파일 쓰기 : write(문자열)  \n",
        "   - 문자열을 하나씩 쓰기\n",
        "\n",
        "\n",
        "\n"
      ],
      "metadata": {
        "id": "z7AApIlt8Pzq"
      }
    },
    {
      "cell_type": "code",
      "source": [
        "#1. 파일 쓰기 모드로 output1.txt 열기\n",
        "outfile = open(\"output1.txt\", \"w\")\n",
        "#2. 파일 쓰기\n",
        "outfile.write(\"hogn\\n\")\n",
        "outfile.write(\"gil\\n\")\n",
        "outfile.write(\"dong\\n\")\n",
        "#3. 파일 닫기\n",
        "outfile.close()\n"
      ],
      "metadata": {
        "id": "5na-_l808Xdq"
      },
      "execution_count": null,
      "outputs": []
    },
    {
      "cell_type": "markdown",
      "source": [
        "* 파일 읽기 : read()  \n",
        "   - 파일을 한꺼번에 읽음, 문자열로 리턴\n"
      ],
      "metadata": {
        "id": "_5CxrQcTHvNu"
      }
    },
    {
      "cell_type": "code",
      "source": [
        "#1. 파일 읽기 모드로 output1.txt 열기\n",
        "infile = open(\"output1.txt\", \"r\")\n",
        "#2. 파일 읽기\n",
        "message = infile.read()\n",
        "#3. 파일 닫기\n",
        "infile.close()\n",
        "#4. 읽은 내용 출력\n",
        "print(message)"
      ],
      "metadata": {
        "id": "8HCOMRKZH97G",
        "colab": {
          "base_uri": "https://localhost:8080/"
        },
        "outputId": "d84da5ac-4cd8-4f6d-a9c8-b4eddd3a87b8"
      },
      "execution_count": null,
      "outputs": [
        {
          "output_type": "stream",
          "name": "stdout",
          "text": [
            "hogn\n",
            "gil\n",
            "dong\n",
            "\n"
          ]
        }
      ]
    },
    {
      "cell_type": "markdown",
      "source": [
        "#**[시험제외, 심화학습] 4부 튜플**\n",
        "\n",
        "*   읽기 전용의 리스트 - 수정 불가\n",
        "\n",
        "\n"
      ],
      "metadata": {
        "id": "qopUZHNKQU85"
      }
    },
    {
      "cell_type": "markdown",
      "source": [
        "## **4.1 튜플 선언**\n",
        "*   튜플 선언은 괄호를 사용 <br>\n",
        "fruits = (\"apple\", \"banana\", \"grape\")"
      ],
      "metadata": {
        "id": "6X4QIw9lSBSG"
      }
    },
    {
      "cell_type": "code",
      "source": [
        "# 튜플 생성\n",
        "\n"
      ],
      "metadata": {
        "id": "8M6LrQhSRh97"
      },
      "execution_count": null,
      "outputs": []
    },
    {
      "cell_type": "markdown",
      "source": [
        "## **4.2 리스트와 튜플 상호 변환**\n",
        "*   tuple() 함수\n",
        "* list() 함수"
      ],
      "metadata": {
        "id": "K5kW5n5kR28C"
      }
    },
    {
      "cell_type": "code",
      "source": [
        "myTuple = (10, 20, 30)\n",
        "\n",
        "#  튜플을 리스트로 변환\n",
        "list1 = list(myTuple)\n",
        "# 리스트에 40 값 추가\n",
        "list1.append(40)\n",
        "# 리스트를 튜플로 변환\n",
        "myTuple1 = tuple(list1)\n",
        "# 튜플을 출력\n",
        "print(myTuple1)"
      ],
      "metadata": {
        "id": "fhiwtDErSWq3",
        "colab": {
          "base_uri": "https://localhost:8080/"
        },
        "outputId": "852331a1-99c4-496d-aaa9-5f0949a41959"
      },
      "execution_count": 43,
      "outputs": [
        {
          "output_type": "stream",
          "name": "stdout",
          "text": [
            "(10, 20, 30, 40)\n"
          ]
        }
      ]
    }
  ]
}
