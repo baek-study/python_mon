{
  "nbformat": 4,
  "nbformat_minor": 0,
  "metadata": {
    "colab": {
      "provenance": [],
      "include_colab_link": true
    },
    "kernelspec": {
      "name": "python3",
      "display_name": "Python 3"
    },
    "language_info": {
      "name": "python"
    }
  },
  "cells": [
    {
      "cell_type": "markdown",
      "metadata": {
        "id": "view-in-github",
        "colab_type": "text"
      },
      "source": [
        "<a href=\"https://colab.research.google.com/github/baek-study/python_mon/blob/main/week10_mju_mon.ipynb\" target=\"_parent\"><img src=\"https://colab.research.google.com/assets/colab-badge.svg\" alt=\"Open In Colab\"/></a>"
      ]
    },
    {
      "cell_type": "markdown",
      "source": [
        "### **[10주차 강의] - 파이썬 입문(월)/백혜정 교수**"
      ],
      "metadata": {
        "id": "Sw9_bUhq7KNh"
      }
    },
    {
      "cell_type": "markdown",
      "source": [
        "### 시험문제 풀이"
      ],
      "metadata": {
        "id": "uRC5df4F4V3_"
      }
    },
    {
      "cell_type": "code",
      "source": [
        "num = -1\n",
        "\n",
        "# 양수 아닌 수를 입력 받으면 계속 입력\n",
        "#while num <= 0 :\n",
        "#    num = int(input(\" 정수 입력\"))\n",
        "\n",
        "while True :\n",
        "    num = int(input(\" 정수 입력\"))\n",
        "    if  num>0 :\n",
        "        break\n",
        "\n",
        "\n",
        "# 사용자가 양수 입력시 피라미드 별 찍기\n",
        "\n",
        "\n",
        "# while   - 초기값, 반복값, 증감값\n",
        "\n",
        "count = 1\n",
        "star = '*'\n",
        "\n",
        "while count < 2*num :\n",
        "    print(f'{star*count:^{num*2-1}s}')\n",
        "    count += 2\n"
      ],
      "metadata": {
        "id": "aJNZKjt-BCMC",
        "colab": {
          "base_uri": "https://localhost:8080/"
        },
        "outputId": "8f49d683-ac98-44d9-dba3-6775868802eb"
      },
      "execution_count": null,
      "outputs": [
        {
          "output_type": "stream",
          "name": "stdout",
          "text": [
            " 정수 입력5\n",
            "    *    \n",
            "   ***   \n",
            "  *****  \n",
            " ******* \n",
            "*********\n"
          ]
        }
      ]
    },
    {
      "cell_type": "markdown",
      "source": [
        "# **1부 함수</span>**\n",
        "\n",
        "\n",
        "*   개념: 함수는 이름을 가지고, 입력을 받아서 작업을 수행후 결과를 반환 <br>\n",
        "&emsp; - 함수이름, 입력(매개변수), 결과(return값)"
      ],
      "metadata": {
        "id": "1qe9LT6_yeqo"
      }
    },
    {
      "cell_type": "code",
      "source": [
        "# len 함수 사용/호출 연습\n",
        "print(\"hello\")\n",
        "\n",
        "\n",
        "length = len(\"hello\")\n",
        "print(f'hello 의 길이 : {length}')\n"
      ],
      "metadata": {
        "id": "Yvf9T2r0y9dQ",
        "colab": {
          "base_uri": "https://localhost:8080/"
        },
        "outputId": "285df36e-5efa-4f4d-aabb-9d4b2b0267a2"
      },
      "execution_count": null,
      "outputs": [
        {
          "output_type": "stream",
          "name": "stdout",
          "text": [
            "hello\n",
            "hello 의 길이 : 5\n"
          ]
        }
      ]
    },
    {
      "cell_type": "markdown",
      "source": [
        "### **함수 정의 - 만들기**\n",
        "\n",
        "\n",
        "*   def 함수이름(매개변수) :<br>\n",
        "&emsp; 문장들 <br>\n",
        "&emsp; return 값"
      ],
      "metadata": {
        "id": "0D1QSNUty2GI"
      }
    },
    {
      "cell_type": "code",
      "source": [
        "# get_area 함수\n",
        "# 매개변수 : radius,  결과(return) 있는 함수\n",
        "# 하는 일 : radius*radius*3.14 를 계산 하여 리턴\n",
        "def get_area(radius) :\n",
        "    area = radius*radius*3.14\n",
        "    return area\n",
        "\n",
        "\n",
        "\n",
        "# print_msg 함수\n",
        "# 매개변수 : name, 결과(return) 없는 함수\n",
        "# 하는일 : 안녕하세요, name님! 축하드립니다. 출력\n",
        "def print_msg(name) :\n",
        "    print(\"안녕하세요\")\n",
        "    print(f'{name}님!  축하드립니다 ')\n",
        "\n",
        "\n",
        "\n"
      ],
      "metadata": {
        "id": "LvdnGs4LyeMB"
      },
      "execution_count": null,
      "outputs": []
    },
    {
      "cell_type": "markdown",
      "source": [
        "###  **함수 호출 - 부르기**\n",
        "\n",
        "\n",
        "*   수행할 함수의 이름을 써주는 것\n",
        "*   함수이름(인수1, 인수2, .... 인수 n)\n"
      ],
      "metadata": {
        "id": "0bLdygW30GhI"
      }
    },
    {
      "cell_type": "code",
      "source": [
        "# get_area 부르기\n",
        "# radius  - 사용자에게 반지름 받기\n",
        "print(get_area(3))\n",
        "print(get_area(10))\n",
        "\n",
        "# print_msg 부르기\n",
        "print_msg(\"영희\")\n",
        "print_msg(\"철수\")\n",
        "\n"
      ],
      "metadata": {
        "id": "18zue86i0MIw",
        "colab": {
          "base_uri": "https://localhost:8080/"
        },
        "outputId": "acf1e3af-4fee-4233-b929-e7375696d0fa"
      },
      "execution_count": null,
      "outputs": [
        {
          "output_type": "stream",
          "name": "stdout",
          "text": [
            "28.26\n",
            "314.0\n",
            "안녕하세요\n",
            "영희님!  축하드립니다 \n",
            "안녕하세요\n",
            "철수님!  축하드립니다 \n"
          ]
        }
      ]
    },
    {
      "cell_type": "code",
      "source": [
        "# 삼각형 함수 정의\n",
        "'''\n",
        "이름 : get_triangle\n",
        "매개변수 : width heght\n",
        "하는일 : 삼각형 넓이 구하기\n",
        "리턴 : 넓이(tri_area) 리턴\n",
        "\n",
        "호출 (5, 6)\n",
        "'''\n",
        "\n",
        "\n",
        "# 삼각형 함수 호출\n",
        "def get_triangle(width,height) :\n",
        "    area=width*height/2\n",
        "    return area\n",
        "\n",
        "value = get_triangle(5,6)\n",
        "print(f'삼각형의 넓이는 {value}')"
      ],
      "metadata": {
        "colab": {
          "base_uri": "https://localhost:8080/"
        },
        "id": "zNAZp8B7JLQq",
        "outputId": "48b1726e-6437-4a11-fe66-8bf8102b3565"
      },
      "execution_count": null,
      "outputs": [
        {
          "output_type": "stream",
          "name": "stdout",
          "text": [
            "삼각형의 넓이는 15.0\n"
          ]
        }
      ]
    },
    {
      "cell_type": "markdown",
      "source": [
        " # **2부 매개변수/인수/반환값**\n",
        "\n",
        "\n",
        "*   매개변수(parameter) : 함수 정의에서 인수를 전달받는 변수\n",
        "*  인수(argument) : 함수 호출시 함수에게 전달되는 값\n",
        "*   반환 값(return value) : 함수 수행의 결과로 호출자에게 돌려주는 값\n",
        "\n"
      ],
      "metadata": {
        "id": "segOUOGx0X-4"
      }
    },
    {
      "cell_type": "code",
      "source": [
        "# 함수 정의 - get_area\n",
        "\n",
        "\n",
        "\n",
        "# 함수 호출 - get_area\n",
        "\n",
        "\n"
      ],
      "metadata": {
        "id": "GYx19h1H0mU4"
      },
      "execution_count": null,
      "outputs": []
    },
    {
      "cell_type": "code",
      "source": [
        "# 함수 정의\n",
        "# get_sum 함수\n",
        "# 매개변수 : first, second,third  결과(return) 있는 함수\n",
        "# 하는 일 : 세 값을 더하는 함수\n",
        "\n",
        "def get_sum(first,second,third):\n",
        "    sum=first+second+third\n",
        "    return sum\n",
        "\n",
        "result=sum(1,2,3)\n",
        "\n",
        "\n",
        "# 함수 호출 - get_sum\n",
        "\n",
        "\n",
        "\n",
        "\n",
        "\n"
      ],
      "metadata": {
        "id": "GMHGqoaM0ubA",
        "colab": {
          "base_uri": "https://localhost:8080/",
          "height": 220
        },
        "outputId": "d202fa95-a239-4cfc-ed7e-8ddde03f828b"
      },
      "execution_count": null,
      "outputs": [
        {
          "output_type": "error",
          "ename": "TypeError",
          "evalue": "sum() takes at most 2 arguments (3 given)",
          "traceback": [
            "\u001b[0;31m---------------------------------------------------------------------------\u001b[0m",
            "\u001b[0;31mTypeError\u001b[0m                                 Traceback (most recent call last)",
            "\u001b[0;32m<ipython-input-13-625267cc0598>\u001b[0m in \u001b[0;36m<cell line: 0>\u001b[0;34m()\u001b[0m\n\u001b[1;32m      8\u001b[0m     \u001b[0;32mreturn\u001b[0m \u001b[0msum\u001b[0m\u001b[0;34m\u001b[0m\u001b[0;34m\u001b[0m\u001b[0m\n\u001b[1;32m      9\u001b[0m \u001b[0;34m\u001b[0m\u001b[0m\n\u001b[0;32m---> 10\u001b[0;31m \u001b[0mresult\u001b[0m\u001b[0;34m=\u001b[0m\u001b[0msum\u001b[0m\u001b[0;34m(\u001b[0m\u001b[0;36m1\u001b[0m\u001b[0;34m,\u001b[0m\u001b[0;36m2\u001b[0m\u001b[0;34m,\u001b[0m\u001b[0;36m3\u001b[0m\u001b[0;34m)\u001b[0m\u001b[0;34m\u001b[0m\u001b[0;34m\u001b[0m\u001b[0m\n\u001b[0m\u001b[1;32m     11\u001b[0m \u001b[0;34m\u001b[0m\u001b[0m\n\u001b[1;32m     12\u001b[0m \u001b[0;34m\u001b[0m\u001b[0m\n",
            "\u001b[0;31mTypeError\u001b[0m: sum() takes at most 2 arguments (3 given)"
          ]
        }
      ]
    },
    {
      "cell_type": "markdown",
      "source": [
        "### [실습 문제]\n",
        "로또 복권은 1~45 숫자 중에서 6개를 추첨하는 게임입니다. 로또를 추첨하는 함수를 작성해서 함수를 호출할 때 마다, 숫자를 하나씩 뽑아서 반환하도록 코드를 작성해 봅시다.\n"
      ],
      "metadata": {
        "id": "lIlRMYRQe0RS"
      }
    },
    {
      "cell_type": "code",
      "source": [
        "# get_lotto_num 함수 : 매개변수 없이, 1~45 간의 임의 값 반환\n",
        "import random\n",
        "def get_lotto_num():\n",
        "    random_num = random.randint(1, 45)\n",
        "    return random_num\n",
        "\n",
        "\n",
        "num = get_lotto_num()\n",
        "print(f\"하나 호출: {num}\")\n",
        "\n",
        "# get_lotto_num 함수를 6번 반복\n",
        "#  while 초기값, 반복조건, 증감값\n",
        "for i in range(6):\n",
        "    num = get_lotto_num()\n",
        "    print(f\"{i+1} : {num}\")\n",
        "\n",
        "\n"
      ],
      "metadata": {
        "id": "eazG3UtNezS6",
        "colab": {
          "base_uri": "https://localhost:8080/"
        },
        "outputId": "b0520dc3-e432-414e-a7e3-39b64c67412a"
      },
      "execution_count": null,
      "outputs": [
        {
          "output_type": "stream",
          "name": "stdout",
          "text": [
            "하나 호출: 23\n",
            "1 : 35\n",
            "2 : 38\n",
            "3 : 19\n",
            "4 : 14\n",
            "5 : 40\n",
            "6 : 42\n"
          ]
        }
      ]
    }
  ]
}
