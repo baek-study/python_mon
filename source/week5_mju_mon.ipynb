{
  "nbformat": 4,
  "nbformat_minor": 0,
  "metadata": {
    "colab": {
      "provenance": [],
      "include_colab_link": true
    },
    "kernelspec": {
      "name": "python3",
      "display_name": "Python 3"
    },
    "language_info": {
      "name": "python"
    }
  },
  "cells": [
    {
      "cell_type": "markdown",
      "metadata": {
        "id": "view-in-github",
        "colab_type": "text"
      },
      "source": [
        "<a href=\"https://colab.research.google.com/github/baek-study/python_mon/blob/main/source/week5_mju_mon.ipynb\" target=\"_parent\"><img src=\"https://colab.research.google.com/assets/colab-badge.svg\" alt=\"Open In Colab\"/></a>"
      ]
    },
    {
      "cell_type": "markdown",
      "source": [
        "### **[5주차 강의] - 파이썬 입문(월)/백혜정 교수**"
      ],
      "metadata": {
        "id": "JwcKYexbX6cP"
      }
    },
    {
      "cell_type": "markdown",
      "source": [
        "### [4주차 퀴즈]\n",
        "정수 변수 age, 실수 변수 height를 ,\n",
        "사용자에게  입력 받은 후, 각각 정수 변환 실수 변환을 한 후<br>\n",
        "age가 18세가 아닌지 프린트 <br>\n",
        "age가 30에서 49사이 인지 프린트 <br>\n",
        "height 가 170.5이상인지 프린트\n",
        "1. 변수선언\n",
        "2. 사용자 입력\n",
        "3. 비교 연산자 -age가 18세가 아닌지 프린트\n",
        "4. 비교 연산자 -age가 30과 49 사이 인지\n",
        "5. 비교 연산자 -height 가 170.5이상인지 프린트\n",
        "<br>\n",
        "나이 : (입력) <br>\n",
        "키 : (입력) <br>\n",
        "\n"
      ],
      "metadata": {
        "id": "Sw9_bUhq7KNh"
      }
    },
    {
      "cell_type": "code",
      "source": [
        "# 나이 : (입력) -> 정수 변환\n",
        "age = int(input(\"나이:\"))\n",
        "# 키 : (입력) -> 실수 변환\n",
        "height = float(input(\"키:\"))\n",
        "# age가 18세가 아닌지 프린트\n",
        "if(age != 18):\n",
        "    print(\"18세\")\n",
        "else:\n",
        "    print(\"18세 아님\")\n",
        "# age가 30에서 49사이 인지 프린트\n",
        "if (age >=30)&(age <= 49) :\n",
        "    print(\"30에서 49세 사이\")\n",
        "else:\n",
        "    print(\"30에서 49세 사이 아님\")\n",
        "# height 가 170.5이상인지 프린트\n",
        "if(height >= 170.5):\n",
        "    print(\"키가 170.5 이상\")\n",
        "else:\n",
        "    print(\"키가 170.5 미만\")"
      ],
      "metadata": {
        "id": "6Q5KseXt7Rdy",
        "colab": {
          "base_uri": "https://localhost:8080/"
        },
        "outputId": "b648e398-8cdc-480d-b641-8988e9a5fb60"
      },
      "execution_count": null,
      "outputs": [
        {
          "output_type": "stream",
          "name": "stdout",
          "text": [
            "나이:18\n",
            "키:180\n",
            "18세\n",
            "30에서 49세 사이 아님\n",
            "키가 170.5 이상\n"
          ]
        }
      ]
    },
    {
      "cell_type": "markdown",
      "source": [
        "\n",
        "\n",
        "---\n",
        "\n"
      ],
      "metadata": {
        "id": "aA1sitfte_Lt"
      }
    },
    {
      "cell_type": "markdown",
      "source": [
        "# **1부. if**"
      ],
      "metadata": {
        "id": "U0QT62gSj3LA"
      }
    },
    {
      "cell_type": "markdown",
      "source": [
        "## **1.1 단순 if**##\n",
        "\n",
        "*   if 조건평가식 : <br>\n",
        "    [빈칸] 문장"
      ],
      "metadata": {
        "id": "fggjNxmOwMsT"
      }
    },
    {
      "cell_type": "code",
      "source": [
        "score = int(input(\"점수는 ? \"))\n",
        "\n",
        "# score 가 60 이상 - 관계연산자\n",
        "score >= 60\n",
        "\n",
        "# 만약 score 가 60 이상 이면 \"pass\" 프린트 - 조건\n",
        "if score >=60 :\n",
        "    print(\"pass\")"
      ],
      "metadata": {
        "id": "uWF5a_3xwN_7"
      },
      "execution_count": null,
      "outputs": []
    },
    {
      "cell_type": "markdown",
      "source": [
        "### **if구문 여러가지 버전**\n",
        "\n",
        "\n",
        "*   한줄 버전 : if 조건: 문장\n",
        "*   기본 버전<br>\n",
        "if 조건: <br>\n",
        "[빈칸]문장\n",
        "* 여러문장 제어 버전<br>\n",
        "if 조건: <br>\n",
        "[빈칸]문장1<br>\n",
        "[빈칸]문장2\n",
        "\n"
      ],
      "metadata": {
        "id": "7aNM67W4elNa"
      }
    },
    {
      "cell_type": "code",
      "source": [
        "score = int(input(\"점수는 ? \"))\n",
        "\n",
        "# 만약 score 가 60 이상 이면 \"pass\" 프린트 - 조건\n",
        "# 한줄 버전\n",
        "if score >=60 : print(\"pass\")\n",
        "# 기본 버전\n",
        "if score >=60 :\n",
        "  print(\"pass\")\n",
        "\n",
        "# 여러문장 제어 - \"pass\" 출력, 다음문장은 \"score는 00 입니다.\" 출력\n",
        "\n",
        "if score >=60 :\n",
        "  print(\"pass\")\n",
        "  print(\"score 는\", score)"
      ],
      "metadata": {
        "id": "AAZYaHOEezeY",
        "colab": {
          "base_uri": "https://localhost:8080/"
        },
        "outputId": "ea445966-1958-45e2-d2d6-2e423f048f8b"
      },
      "execution_count": null,
      "outputs": [
        {
          "output_type": "stream",
          "name": "stdout",
          "text": [
            "점수는 ? 65\n",
            "pass\n",
            "pass\n",
            "pass\n",
            "score 는 65\n"
          ]
        }
      ]
    },
    {
      "cell_type": "code",
      "source": [
        "# 사용자가 입력한 2개의 정수n1, n2의 비교\n",
        "# n1 - 첫번째 정수\n",
        "# n2 - 두번째 정수\n",
        "n1=int(input(\"첫번째 정수\"))\n",
        "n2=int(input(\"두번째 정수\"))\n",
        "# 관계연산자\n",
        "# n1이 n2 보다 큰지\n",
        "print(n1 > n2)\n",
        "\n",
        "# 만약 n1이 n2 보다 큰지? - 버전 1 - 한줄에\n",
        "if  n1>n2 : print(\"n1이 n2보다 크다.\")\n",
        "\n",
        "\n",
        "# n1이 n2 보다 큰지? - 버전 2  - 기본 버전\n",
        "if n1>n2 :\n",
        "    print(\"n1이 n2보다 크다.\")\n",
        "# n1이 n2 보다 큰지? - 버전 3  - 여러 문장 제어 받음 = n1이 n2 보다 크다, n1이 더 크다\n",
        "\n",
        "print('끝')"
      ],
      "metadata": {
        "id": "vP-IzpdfbNp5",
        "colab": {
          "base_uri": "https://localhost:8080/"
        },
        "outputId": "7afbd56e-1846-4296-ba8a-929e906fa33b"
      },
      "execution_count": null,
      "outputs": [
        {
          "output_type": "stream",
          "name": "stdout",
          "text": [
            "첫번째 정수15\n",
            "두번째 정수5\n",
            "True\n",
            "n1이 n2보다 크다.\n",
            "n1이 n2보다 크다.\n",
            "끝\n"
          ]
        }
      ]
    },
    {
      "cell_type": "markdown",
      "source": [
        "### **배타적인 상황 1**\n",
        "\n",
        "*   만약 n1이 n2 보다 크면?\n",
        "*   만약 n1이 n2 보다 작거나 같으면?\n",
        "\n",
        "\n"
      ],
      "metadata": {
        "id": "5Q6fDxGnhLPp"
      }
    },
    {
      "cell_type": "code",
      "source": [
        "n1 = 10\n",
        "n2 = 20\n",
        "\n",
        "# 만약 n1이 n2 보다 크면? n1이 n2보다 더 크다 출력\n",
        "if n1 > n2 :\n",
        "    print(\"n1 > n2 \")\n",
        "\n",
        "# 만약 n1이 n2 보다 작거나 같으면? n1이 n2보다 작거나 같다 출력\n",
        "if n1 <= n2 :\n",
        "    print(\"n1 <= n2) \")\n",
        "\n",
        "# 배타적인 상황"
      ],
      "metadata": {
        "id": "-8wsCbtlw-PM"
      },
      "execution_count": null,
      "outputs": []
    },
    {
      "cell_type": "markdown",
      "source": [
        "### **배타적인 상황 2**\n",
        "\n",
        "*   만약 score가 60 이상(크거나 같으면) \"pass\"\n",
        "*   만약 score가 60 미만(작으면) \"fail\"\n"
      ],
      "metadata": {
        "id": "HytbKT1zh-2B"
      }
    },
    {
      "cell_type": "code",
      "source": [
        "score = 50\n",
        "# 만약 score가 60 이상(크거나 같으면) \"pass\"\n",
        "if score >= 60:\n",
        "    print(\"pass\")\n",
        "\n",
        "# 만약 score가 60 보다 작으면 \"fail\"\n",
        "if score < 60:\n",
        "    print(\"fail\")\n",
        "\n",
        "# 배타적인 상황"
      ],
      "metadata": {
        "id": "UQvg47o1hkvA",
        "colab": {
          "base_uri": "https://localhost:8080/"
        },
        "outputId": "a4bffdc1-f012-4c95-d475-d1c8e897a605"
      },
      "execution_count": null,
      "outputs": [
        {
          "output_type": "stream",
          "name": "stdout",
          "text": [
            "fail\n"
          ]
        }
      ]
    },
    {
      "cell_type": "markdown",
      "source": [
        "## **1.2 if~else**##\n",
        "\n",
        " if 조건평가식 : <br>\n",
        "    [빈칸] 문장 <br>\n",
        "    else : <br>\n",
        "    [빈칸] 문장 <br>"
      ],
      "metadata": {
        "id": "HWeMQEZBg4IA"
      }
    },
    {
      "cell_type": "code",
      "source": [
        "n1 = 10\n",
        "n2 = 20\n",
        "\n",
        "# if~else 문\n",
        "# 만약 n1이 n2 보다 크면? n1이 n2보다 더 크다 출력\n",
        "if n1>n2:\n",
        "    print(\"n1이 n2보다 더 크다\")\n",
        "\n",
        "# 그렇지 않으면 n1이 n2보다 작거나 같다 출력\n",
        "else:\n",
        "    print(\"n1이 n2보다 작거나 같다\")\n",
        "\n"
      ],
      "metadata": {
        "id": "SUuxizXewY4D"
      },
      "execution_count": null,
      "outputs": []
    },
    {
      "cell_type": "code",
      "source": [
        "score = 80\n",
        "# 만약 score가 60 이상(크거나 같으면) \"pass\"\n",
        "if score>=60:\n",
        "   print(\"pass\")\n",
        "\n",
        "# 그렇지 않으면 \"fail\"\n",
        "else:\n",
        "    print(\"fail\")\n",
        "\n"
      ],
      "metadata": {
        "id": "OUc4MJlgjMMC"
      },
      "execution_count": null,
      "outputs": []
    },
    {
      "cell_type": "markdown",
      "source": [
        "## **1.3실습 문제**"
      ],
      "metadata": {
        "id": "oYMgqbeaxcWD"
      }
    },
    {
      "cell_type": "markdown",
      "source": [
        "*   정수 1개를 입력 받아 홀수인지 짝수인지 판단 한 후, 판단 결과를 화면에 출력하는 프로그램 작성\n",
        "\n",
        "\n",
        "---\n",
        "정수를 입력하시오 : (사용자 입력) <br>\n",
        "홀수입니다.<br>\n",
        "프로그램 종료.\n"
      ],
      "metadata": {
        "id": "SUJeJOHUxksb"
      }
    },
    {
      "cell_type": "code",
      "source": [
        "# 정수 입력\n",
        "number = int(input(\"정수 입력 : \"))\n",
        "# 만약 정수가 짝수 이면 - 짝수입니다. 출력\n",
        "if number%2 == 0 :\n",
        "    print(\"짝수 입니다.\")\n",
        "# 그렇지 않으면 - 홀수 입니다. 출력\n",
        "else :\n",
        "    print(\"홀수 입니다.\")\n",
        "\n",
        "if number%5 == 0 :\n",
        "    print(\"5의 배수 입니다.\")\n",
        "\n",
        "else :\n",
        "    print(\"5의 배수가 아닙니다.\")\n",
        "\n",
        "# 5 의 배수이고 3의 배수 인지 아닌지 - 논리 연산자\n",
        "if number%5 == 0 and number%3 ==0 :\n",
        "    print(\"5의 배수이고 3의 배수 입니다.\")\n",
        "\n",
        "else :\n",
        "    print(\"5의 배수이고 3의 배수가 아닙니다\")"
      ],
      "metadata": {
        "id": "fLlf5nFNxTF0",
        "colab": {
          "base_uri": "https://localhost:8080/"
        },
        "outputId": "1c01d6ca-e174-424a-924d-833bed77daac"
      },
      "execution_count": null,
      "outputs": [
        {
          "output_type": "stream",
          "name": "stdout",
          "text": [
            "정수 입력 : 5\n",
            "홀수 입니다.\n"
          ]
        }
      ]
    },
    {
      "cell_type": "markdown",
      "source": [],
      "metadata": {
        "id": "ksONz7vyxB4_"
      }
    },
    {
      "cell_type": "markdown",
      "source": [
        "### 배송비 프로그램\n",
        "*  사용자로부터 상품 가격을 입력 받고, 가격이 20000원이상 이면 배송비가 무료 이고, 그렇지 않으면 배송비가 3000원임\n"
      ],
      "metadata": {
        "id": "-wKnRH1K5Tq1"
      }
    },
    {
      "cell_type": "code",
      "source": [
        "# 상품 가격 - 사용자 입력 price\n",
        "price = int(input(\"상품가격\"))\n",
        "\n",
        "# 만약 가격이 20000만원 이상 이면 shpping_cost 가 0,\n",
        "if price >= 20000 :\n",
        "    shipping_cost = 0\n",
        "\n",
        "# 그렇지 않으면 shipping_cost가 3000\n",
        "else :\n",
        "    shipping_cost = 3000\n",
        "# price, shipping_cost 출력\n",
        "print(\"price : \", price, \"shipping_cost : \", shipping_cost )"
      ],
      "metadata": {
        "id": "ygTXuykD5SoF",
        "colab": {
          "base_uri": "https://localhost:8080/"
        },
        "outputId": "ec3721f3-f0b4-41f1-d512-1632211f28bd"
      },
      "execution_count": null,
      "outputs": [
        {
          "output_type": "stream",
          "name": "stdout",
          "text": [
            "상품가격30000\n",
            "price :  30000 shipping_cost :  0\n"
          ]
        }
      ]
    },
    {
      "cell_type": "markdown",
      "source": [
        "# **2부. 중첩 if,  연속 if**\n",
        "\n",
        "\n",
        "*   중첩 if : if 안에 if가 들어 있음\n",
        "*   연속 if : 세개 이상의 조건\n",
        "\n"
      ],
      "metadata": {
        "id": "JWvvnK-r42zq"
      }
    },
    {
      "cell_type": "markdown",
      "source": [
        "## **2.1 중첩 if : if 안에 if**\n",
        "\n",
        " if 조건평가식 : <br>\n",
        " [ ]if 조건평가식 : <br>\n",
        " [ ][빈칸] 문장 <br>\n",
        " [ ]else : <br>\n",
        " [ ][빈칸] 문장 <br>\n",
        "else : <br>\n",
        "[빈칸] 문장 <br>"
      ],
      "metadata": {
        "id": "wgKtKtVQ47zF"
      }
    },
    {
      "cell_type": "markdown",
      "source": [
        "만약 배송지가 한국이면\n",
        "- 상품의 가격이 2만원 이상이면 배송비는 없고\n",
        "그렇지 않으면 3000원의 배송비가 붙는다.\n",
        "\n",
        "그렇지 않으면\n",
        "- 8000원의 배송비가 붙는다.\n"
      ],
      "metadata": {
        "id": "xjNzv72n6a_9"
      }
    },
    {
      "cell_type": "code",
      "source": [
        "country = 'korea'\n",
        "price = 30000\n",
        "\n",
        "# 외부 if : 만약 배송지가 korea 이면\n",
        "if country == 'korea' :\n",
        "\n",
        "## 내부 if : 만약 가격이 20000만원 이상 이면 shpping_cost 가 0,\n",
        "    if price >= 20000 :\n",
        "        shipping_cost = 0\n",
        "## 내부 : 그렇지 않으면 shipping_cost가 3000\n",
        "    else :\n",
        "        shipping_cost = 3000\n",
        "# 외부 :그렇지 않으면\n",
        "    print(\"if test\")\n",
        "else :\n",
        "    if price >= 30000 :\n",
        "        shipping_cost = 8000\n",
        "    else :\n",
        "        shipping_cost = 10000"
      ],
      "metadata": {
        "id": "e0Ov0ypo6R77"
      },
      "execution_count": null,
      "outputs": []
    },
    {
      "cell_type": "markdown",
      "source": [
        "* 점수(score)가 만약 60 이상 이면 <br>\n",
        "합격하셨습니다. 출력 후 <br>\n",
        "90 이상이면 \"장학금 대상자 입니다.\" 출력\n",
        "* 만약 60 미만 이면 <br>\n",
        "불합격 하셨습니다. 출력"
      ],
      "metadata": {
        "id": "KY2O5dq88IGF"
      }
    },
    {
      "cell_type": "code",
      "source": [
        "score = int(input('성적을 입력하시오 : '))\n",
        "\n",
        "# 외부 if : 성적이 60 이상 이면 - 합격입니다 출력\n",
        "if score >= 60 :\n",
        "    print(\"합격입니다.\")\n",
        "## 내부 if : 만약 성적이 90 이상 이면 - 장학금 대상자 입니다. 출력\n",
        "    if score >= 90 :\n",
        "        print(\"장학금 대상입니다.\")\n",
        "\n",
        "# 외부 :그렇지 않으면(성적이 60 미만이면) - 불합격입니다.\n",
        "else :\n",
        "    print(\"불합격입니다.\")\n"
      ],
      "metadata": {
        "id": "HqZrrzc85Bv7"
      },
      "execution_count": null,
      "outputs": []
    },
    {
      "cell_type": "markdown",
      "source": [
        "\n",
        "\n",
        "*   사용자가 입력한 점수(score)가 90 이상이면 A, 그렇지 않고 80이상이면 B, 그렇지 않고 70 이상이면 C, 그렇지 않고 60 이상이면 D, 그렇지 않으면 F\n",
        "\n"
      ],
      "metadata": {
        "id": "xy1OFbmO98j8"
      }
    },
    {
      "cell_type": "code",
      "source": [
        "score = 85\n",
        "if score >= 90 :\n",
        "       print(\"학점 A\")\n",
        "else :\n",
        "    if score >= 80 :\n",
        "        print(\"학점 B\")\n",
        "    else :\n",
        "        if score >= 70 :\n",
        "            print(\"학점 C\")\n",
        "        else :\n",
        "            if score >= 60 :\n",
        "                print(\"학점 D\")\n",
        "            else :\n",
        "                print(\"학점 F\")\n"
      ],
      "metadata": {
        "id": "Itemz7Jg97fn",
        "colab": {
          "base_uri": "https://localhost:8080/"
        },
        "outputId": "df027243-1f69-4389-df80-3fb8f9d9f9a1"
      },
      "execution_count": null,
      "outputs": [
        {
          "output_type": "stream",
          "name": "stdout",
          "text": [
            "학점 B\n"
          ]
        }
      ]
    },
    {
      "cell_type": "markdown",
      "source": [
        "## **2.2 연속 if : if ~ elif ~ else**\n",
        "\n",
        " if 조건식 : <br>\n",
        "[빈칸] 문장 <br>\n",
        "elif 조건식 : <br>\n",
        "[빈칸] 문장 <br>\n",
        "elif 조건식 : <br>\n",
        "[빈칸] 문장 <br>\n",
        "else: <br>\n",
        "[빈칸] 문장\n"
      ],
      "metadata": {
        "id": "oFNyRG_X9O7k"
      }
    },
    {
      "cell_type": "code",
      "source": [
        "# 사용자가 입력한 점수(score)가 90 이상이면 A, 그렇지 않고 80이상이면 B, 그렇지 않고 70 이상이면 C, 그렇지 않고 60 이상이면 D, 그렇지 않으면 F\n",
        "print('#'*5, 'if ~ else if ~ else 문', '#'*5)\n",
        "score = int(input(\"점수를 입력하시오:\"))\n",
        "\n",
        "# 만약 score가 90 이상이면 - A\n",
        "if score>= 90:\n",
        "    print('A')\n",
        "# 그렇지 않고 만약 score가 80 이상이면 - B\n",
        "elif score>=80:\n",
        "    print('B')\n",
        "\n",
        "# 그렇지 않고 만약 score가 70 이상이면 - C\n",
        "elif score>=70\n",
        "    print('C')\n",
        "\n",
        "# 그렇지 않고 만약 score가 60 이상이면 - D\n",
        "elif score>=60:\n",
        "    print('D')\n",
        "# 그렇지 않으면 - F\n",
        "else :\n",
        "    print('F')\n",
        "\n",
        "print('end!')"
      ],
      "metadata": {
        "id": "VScU4NLS9Q_F"
      },
      "execution_count": null,
      "outputs": []
    },
    {
      "cell_type": "markdown",
      "source": [
        "## random : 임의의 값\n",
        "\n",
        "*   random.randint(start, end)\n",
        "*   random.choice('선택1', '선택2')\n"
      ],
      "metadata": {
        "id": "HsVIDo1V--uc"
      }
    },
    {
      "cell_type": "code",
      "source": [
        "import random   # random 함수 사용 하고자 할 때 - turtle과 비슷\n",
        "\n",
        "# 1에서 6 사이에서 임의의 값 출력\n",
        "print(random.randint(1, 6))\n",
        "print(random.randint(1, 6))\n",
        "print(random.randint(1, 6))\n",
        "print(random.randint(1, 6))\n",
        "\n",
        "# 1에서 45 사이에서 임의의 값 출력\n",
        "print(random.randint(1, 45))\n",
        "print(random.randint(1, 45))\n",
        "print(random.randint(1, 45))\n",
        "print(random.randint(1, 45))\n",
        "\n",
        "# 점심 메뉴 선택 - '김밥', '돈까스', '샌드위치', '백반'\n",
        "print(random.choice(['김밥', '돈까스', '샌드위치', '백반']))\n",
        "print(random.choice(['김밥', '돈까스', '샌드위치', '백반']))\n",
        "print(random.choice(['김밥', '돈까스', '샌드위치', '백반']))\n",
        "print(random.choice(['김밥', '돈까스', '샌드위치', '백반']))"
      ],
      "metadata": {
        "id": "RFiBt-Ji_dLU",
        "colab": {
          "base_uri": "https://localhost:8080/"
        },
        "outputId": "9b38b62a-e143-47e6-d798-c97b7e3f43d6"
      },
      "execution_count": null,
      "outputs": [
        {
          "output_type": "stream",
          "name": "stdout",
          "text": [
            "1\n",
            "2\n",
            "4\n",
            "1\n",
            "26\n",
            "39\n",
            "31\n",
            "23\n",
            "김밥\n",
            "돈까스\n",
            "샌드위치\n",
            "돈까스\n"
          ]
        }
      ]
    },
    {
      "cell_type": "markdown",
      "source": [
        "### 가위, 바위, 보 게임을 통해서 컴퓨터와 대결해 봅시다.\n",
        "* 잘 알겠지만, 가위바위보 게임은 다음의 규칙을 따릅니다. 나를 기준으로 컴퓨터가 내는 것으로 확인하면 됩니다."
      ],
      "metadata": {
        "id": "Gob8qrj8_cZf"
      }
    },
    {
      "cell_type": "code",
      "source": [
        "# my_hand vs com_hand\n",
        "\n",
        "import random\n",
        "\n",
        "# 사용자의 가위/바위/보 중 하나를 입력받아 myHand 변수에 저장\n",
        "my_hand = input(\"가위/바위/보 중 하나를 선택하시오 : \")\n",
        "\n",
        "# 컴퓨터의 가위/바위/보는 랜덤하게 추출하여 comHand에 저장\n",
        "com_hand = random.choice([\"가위\", \"바위\", \"보\"])\n",
        "\n",
        "print(\"my_hand = \", my_hand, \"com_hand =\", com_hand)\n",
        "\n",
        "# 게임 진행하기 위해 사용자의 가위/바위/보에 따라 if문을 사용함\n",
        "# my_hand가 가위 이면 - 가위라고 출력\n",
        "if my_hand == \"가위\" :\n",
        "    print(\"가위\")\n",
        "# my_hand가 바위 이면 - 바위라고 출력\n",
        "elif my_hand == \"바위\" :\n",
        "    print(\"바위\")\n",
        "# my_hand가 보 이면 - 보라고 출력\n",
        "else :\n",
        "    print(\"보\")"
      ],
      "metadata": {
        "id": "STll1NBbAfO-",
        "colab": {
          "base_uri": "https://localhost:8080/"
        },
        "outputId": "a4fab65b-6336-4faa-aa0e-bdc8b4e6a05c"
      },
      "execution_count": null,
      "outputs": [
        {
          "output_type": "stream",
          "name": "stdout",
          "text": [
            "가위/바위/보 중 하나를 선택하시오 : 가위\n",
            "my_hand =  가위 com_hand = 가위\n",
            "가위\n"
          ]
        }
      ]
    },
    {
      "cell_type": "code",
      "source": [
        "# my_hand vs com_hand\n",
        "import random\n",
        "\n",
        "# 사용자의 가위/바위/보 중 하나를 입력받아 myHand 변수에 저장\n",
        "my_hand = input(\"가위/바위/보 중 하나를 선택하시오 : \")\n",
        "\n",
        "# 컴퓨터의 가위/바위/보는 랜덤하게 추출하여 comHand에 저장\n",
        "com_hand = random.choice([\"가위\", \"바위\", \"보\"])\n",
        "\n",
        "print(\"my_hand = \", my_hand, \"com_hand =\", com_hand)\n",
        "# my_hand가 가위 이면 -\n",
        "if my_hand == \"가위\" :\n",
        "    ## com_hand가 가위 이면 비김\n",
        "    if com_hand == \"가위\" :\n",
        "        print(\"비겼습니다.\")\n",
        "    ## com_hand가 바위 이면 \"졌습니다\" 출력\n",
        "    elif com_hand == \"바위\" :\n",
        "        print(\"졌습니다\")\n",
        "    ## com_hand가 보 이면 \"이겼습니다\" 출력\n",
        "    else :\n",
        "        print(\"이겼습니다.\")\n",
        "# my_hand가 바위 이면 - 바위라고 출력\n",
        "elif my_hand == \"바위\" :\n",
        "    ## com_hand가 가위 이면 비김\n",
        "    if com_hand == \"가위\" :\n",
        "        print(\"이겼습니다.\")\n",
        "    ## com_hand가 바위 이면 \"졌습니다\" 출력\n",
        "    elif com_hand == \"바위\" :\n",
        "        print(\"비겼습니다\")\n",
        "    ## com_hand가 보 이면 \"이겼습니다\" 출력\n",
        "    else :\n",
        "        print(\"졌습니다\")\n",
        "# my_hand가 보 이면 - 보라고 출력\n",
        "elif my_hand == \"보\" :\n",
        "    ## com_hand가 가위 이면 비김\n",
        "    if com_hand == \"가위\" :\n",
        "        print(\"졌습니다\")\n",
        "    ## com_hand가 바위 이면 \"졌습니다\" 출력\n",
        "    elif com_hand == \"바위\" :\n",
        "        print(\"이겼습니다\")\n",
        "    ## com_hand가 보 이면 \"이겼습니다\" 출력\n",
        "    else :\n",
        "        print(\"비겼습니다\")\n",
        "else :\n",
        "    print(\"가위/바위/보 만 낼 수 있습니다.\")"
      ],
      "metadata": {
        "id": "eJbSO0TJComx",
        "colab": {
          "base_uri": "https://localhost:8080/"
        },
        "outputId": "efc20b87-4442-4a90-9951-8cafbee62fce"
      },
      "execution_count": null,
      "outputs": [
        {
          "output_type": "stream",
          "name": "stdout",
          "text": [
            "가위/바위/보 중 하나를 선택하시오 : 보\n",
            "my_hand =  보 com_hand = 바위\n",
            "이겼습니다\n"
          ]
        }
      ]
    }
  ]
}