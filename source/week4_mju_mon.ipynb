{
  "nbformat": 4,
  "nbformat_minor": 0,
  "metadata": {
    "colab": {
      "provenance": [],
      "include_colab_link": true
    },
    "kernelspec": {
      "name": "python3",
      "display_name": "Python 3"
    },
    "language_info": {
      "name": "python"
    }
  },
  "cells": [
    {
      "cell_type": "markdown",
      "metadata": {
        "id": "view-in-github",
        "colab_type": "text"
      },
      "source": [
        "<a href=\"https://colab.research.google.com/github/baek-study/python_mon/blob/main/source/week4_mju_mon.ipynb\" target=\"_parent\"><img src=\"https://colab.research.google.com/assets/colab-badge.svg\" alt=\"Open In Colab\"/></a>"
      ]
    },
    {
      "cell_type": "markdown",
      "source": [
        "### **[4주차 강의] - 파이썬 입문(월)/백혜정 교수**"
      ],
      "metadata": {
        "id": "_D7KTX8DXz0v"
      }
    },
    {
      "cell_type": "markdown",
      "source": [
        "### [3주차 퀴즈]\n",
        "사용자에게 이름(name)과 나이(age-정수),  키(height-실수)를 입력 받은 후, 자료형 변환을 하시오.<br>\n",
        "이름 : (입력) <br>\n",
        "나이 : (입력) <br>\n",
        "키 : (입력) <br>\n",
        "\n"
      ],
      "metadata": {
        "id": "Sw9_bUhq7KNh"
      }
    },
    {
      "cell_type": "code",
      "source": [
        "# 이름 : (입력)\n",
        "name = input(\"이름 : \")\n",
        "# 나이 : (입력) -> 정수 변환\n",
        "age = int(input(\"나이 : \"))\n",
        "# 키 : (입력) -> 실수 변환\n",
        "height = float(input(\"키 : \"))\n",
        "\n",
        "# 이름, 나이, 키 출력\n",
        "print(name)\n",
        "print(age)\n",
        "print(height)"
      ],
      "metadata": {
        "id": "6Q5KseXt7Rdy",
        "colab": {
          "base_uri": "https://localhost:8080/"
        },
        "outputId": "00ff158a-7e26-46ab-d9bf-e6f68f8adf8d"
      },
      "execution_count": null,
      "outputs": [
        {
          "output_type": "stream",
          "name": "stdout",
          "text": [
            "이름 : mju\n",
            "나이 : 20\n",
            "키 : 170\n",
            "mju\n",
            "20\n",
            "170.0\n"
          ]
        }
      ]
    },
    {
      "cell_type": "markdown",
      "source": [
        "\n",
        "\n",
        "---\n",
        "\n"
      ],
      "metadata": {
        "id": "APJVzLZzfddq"
      }
    },
    {
      "cell_type": "markdown",
      "source": [
        "# **1부 산술/대입연산자**"
      ],
      "metadata": {
        "id": "jQlNqTHMYNs5"
      }
    },
    {
      "cell_type": "markdown",
      "source": [
        "##**1.1 산술연산자**\n",
        "사칙 연산 : +, -, *, /  (나누기 결과는 항상 실수) <br>\n",
        "기타:  //(몫), %(나머지),**(제곱)"
      ],
      "metadata": {
        "id": "NBMJgENQpM-E"
      }
    },
    {
      "cell_type": "code",
      "source": [
        "# 산술 연산자 연습\n",
        "# n1에 5, n2 에 3 을 넣기\n",
        "n1 = 5\n",
        "n2 = 3\n",
        "# 사칙연산 : +, -, *, /\n",
        "print(n1 + n2)\n",
        "print(n1 - n2)\n",
        "print(n1*n2)\n",
        "print(n1/n2)\n",
        "\n",
        "\n",
        "\n",
        "# //(몫), %(나머지), **(제곱)\n",
        "print(n1//n2)\n",
        "print(n1 % n2)\n",
        "print(n1**n2)\n",
        "print(1.2-1.0)"
      ],
      "metadata": {
        "id": "GV105MvSp6us",
        "colab": {
          "base_uri": "https://localhost:8080/"
        },
        "outputId": "781b3116-55c4-4471-e278-2132df3bb1f0"
      },
      "execution_count": null,
      "outputs": [
        {
          "output_type": "stream",
          "name": "stdout",
          "text": [
            "8\n",
            "2\n",
            "15\n",
            "1.6666666666666667\n",
            "1\n",
            "2\n",
            "125\n",
            "0.19999999999999996\n"
          ]
        }
      ]
    },
    {
      "cell_type": "markdown",
      "source": [
        "##**1.2 산술연산자 - 우선순위**\n",
        "**  <br>\n",
        "*, /, //, % <br>\n",
        "+, -"
      ],
      "metadata": {
        "id": "0BJqnOw0ZuxB"
      }
    },
    {
      "cell_type": "code",
      "source": [
        "# 다음을 계산 하면?\n",
        "# 3 + 2 * 5\n",
        "print(3 + 2 * 5)\n",
        "# 3 + 2 * 5 ** 2\n",
        "print(3 + 2 * 5 ** 2)\n",
        "# +를 먼저하고 싶으면 ?\n",
        "print( (3 + 2) * 5 ** 2)"
      ],
      "metadata": {
        "id": "n2M1Vo7SZ2yA",
        "colab": {
          "base_uri": "https://localhost:8080/"
        },
        "outputId": "272e735a-38ef-47a2-a760-941e6d1737e0"
      },
      "execution_count": null,
      "outputs": [
        {
          "output_type": "stream",
          "name": "stdout",
          "text": [
            "13\n",
            "53\n",
            "125\n"
          ]
        }
      ]
    },
    {
      "cell_type": "markdown",
      "source": [
        "## **1.3 할당(대입)연산자**\n",
        "우측 표현식의 결과값을 좌측 변수에 대입"
      ],
      "metadata": {
        "id": "y_nc644-rzvk"
      }
    },
    {
      "cell_type": "markdown",
      "source": [
        "### **변수 할당/대입 - 자료/수식/함수**\n",
        "자료 - 단순 값 또는 다른 변수값 <br>\n",
        "수식 - 값/값, 변수/변수, 값/변수 등 수식 결과값 대입 <br>\n",
        "함수 - 함수 결과 값 대입"
      ],
      "metadata": {
        "id": "7yUSP5zmbV25"
      }
    },
    {
      "cell_type": "code",
      "source": [
        "# 단순값 대입 - n1에 1 넣기\n",
        "n1 =1\n",
        "\n",
        "# 다른 변수값 대입 - n2에 n1 값 넣기\n",
        "n2 = n1\n",
        "\n",
        "# 값-값 연산 : n1 변수에 1과 2를 더한 값 넣기\n",
        "n1 = 1 + 2\n",
        "# 변수-값 연산 : n2 변수에 n1에 4를 나눈 값 넣기\n",
        "n2 = n1 + 4\n",
        "sum = n1 + n2\n",
        "# 변수-변수 연산 : max_value 에 max(n1, n2) 함수 결과 값 넣기\n",
        "max_value = max(n1, n2)\n",
        "# 자기 할당문 : 자기 자신을 포함한 연산 - n1에 1을 더하기\n",
        "n1 = n1 + 5"
      ],
      "metadata": {
        "id": "-8Gkn66ObVRS"
      },
      "execution_count": null,
      "outputs": []
    },
    {
      "cell_type": "markdown",
      "source": [
        "### **다중할당문**\n",
        "- 한번에 여러개 변수 초기화 <br>\n",
        "- 두 변수 맞교환"
      ],
      "metadata": {
        "id": "zHP4ocOrbahp"
      }
    },
    {
      "cell_type": "code",
      "source": [
        "# 다중 할당문 - 여러 개의 대입 연산 x, y, z에 모두 1을 할당\n",
        "x=y=z=1\n",
        "print(x, y, z)\n",
        "z=1\n",
        "y=z\n",
        "x=y\n",
        "\n",
        "\n",
        "# 다중 할당문 활용 - 좌변 변수가 여러개 인 경우 -x에는 1, y에는 2 넣기\n",
        "x = 1\n",
        "y = 2\n",
        "x, y = 1, 2\n",
        "\n",
        "# 다중 할당문 - x,y,z에 각각 10, 20, 30 넣기\n",
        "x, y, z = 10, 20, 30\n",
        "\n",
        "\n",
        "# 두 변수 맞교환 - x, y의 값을 서로 바꾸기 - 파이썬의 독특한 방법\n",
        "print(x, y)\n",
        "x, y = y, x\n",
        "print(x, y)\n",
        "\n",
        "\n",
        "# 다른 언어에서 맞교환 - temp 이용\n",
        "temp  = x\n",
        "x = y\n",
        "y = temp\n",
        "print(x, y)\n",
        "\n"
      ],
      "metadata": {
        "id": "0D0lXVhMtjnM",
        "colab": {
          "base_uri": "https://localhost:8080/"
        },
        "outputId": "e953fef3-2e22-4f1a-bbd5-897dbd4bc60e"
      },
      "execution_count": null,
      "outputs": [
        {
          "output_type": "stream",
          "name": "stdout",
          "text": [
            "1 1 1\n",
            "10 20\n",
            "20 10\n",
            "10 20\n"
          ]
        }
      ]
    },
    {
      "cell_type": "markdown",
      "source": [
        "## **1.4 복합대입연산자**\n",
        "+=처럼 대입 연산자와 다른 연산자를 합쳐 놓은 연산자 <br>"
      ],
      "metadata": {
        "id": "i_7lWY7qt7Fc"
      }
    },
    {
      "cell_type": "code",
      "source": [
        "# 복합대입 num = num + 2\n",
        "num += 2\n",
        "# 복합대입 num = num - 2\n",
        "num -= 2\n",
        "# 복합대입 num = num * 2\n",
        "num *= 2\n",
        "# 복합대입 num = num / 2\n",
        "num /= 2"
      ],
      "metadata": {
        "id": "Fa6M7y41uSQM"
      },
      "execution_count": null,
      "outputs": []
    },
    {
      "cell_type": "code",
      "source": [
        "##### 자율 예습  #####\n",
        "# x에 1000을 할당 후 출력\n",
        "x = 1000\n",
        "print(x)\n",
        "# 복합대입으로 2를 더한 후 출력\n",
        "x += 2\n",
        "print(x)\n",
        "# 복합대입으로 2를 뺀 후 출력\n",
        "x -= 2\n",
        "print(x)"
      ],
      "metadata": {
        "id": "NW0Si2WxdLU5",
        "colab": {
          "base_uri": "https://localhost:8080/"
        },
        "outputId": "c84a2dc2-0da5-45e9-ea24-731267ccb693"
      },
      "execution_count": null,
      "outputs": [
        {
          "output_type": "stream",
          "name": "stdout",
          "text": [
            "1000\n",
            "1002\n",
            "1000\n"
          ]
        }
      ]
    },
    {
      "cell_type": "markdown",
      "source": [
        "## **실습 문제**\n"
      ],
      "metadata": {
        "id": "Lx6wDXgzvtCk"
      }
    },
    {
      "cell_type": "markdown",
      "source": [
        "*   화씨를 입력 받아 섭씨 온도를 계산 후, 섭씨 온도를 화면에 출력하는 프로그램 <br>\n",
        "C = (F-32) *5/9\n",
        "\n"
      ],
      "metadata": {
        "id": "KMDEipqgSnAr"
      }
    },
    {
      "cell_type": "code",
      "source": [
        "# 화씨를 입력 받아 섭씨 온도를 계산 후, 섭씨 온도를 화면에 출력\n",
        "fahr=int(input(\"화씨 온도\"))\n",
        "celsius=(fahr-32)*5/9\n",
        "print(\"섭씨 온도\",celsius)"
      ],
      "metadata": {
        "id": "0VXizUs-v65l",
        "colab": {
          "base_uri": "https://localhost:8080/"
        },
        "outputId": "1a3b1959-8116-4e7e-b667-06c8a09faa41"
      },
      "execution_count": null,
      "outputs": [
        {
          "output_type": "stream",
          "name": "stdout",
          "text": [
            "화씨 온도23\n",
            "섭씨 온도 -5.0\n"
          ]
        }
      ]
    },
    {
      "cell_type": "markdown",
      "source": [
        "* 사용자에게 초 단위의 시간을 입력받아 분-초 형태로 출력 <br>\n",
        "1분은 60초   - 힌트(몫과 나머지 이용)\n",
        "---\n",
        "변환하고자 하는 시간(초)? (사용자 입력) <br>\n",
        "000 초는 00 분 00 초이다."
      ],
      "metadata": {
        "id": "9ZHR8DzvdoxB"
      }
    },
    {
      "cell_type": "code",
      "source": [
        "#  사용자에게 초 단위의 시간을 입력받안 분-초 형태로 출력\n",
        "#\n",
        "data = int(input(\"변환하고자 하는 시간(초): \"))\n",
        "minute = data // 60\n",
        "second = data % 60\n",
        "\n",
        "print(data, \"초는\", minute, \"분\", second, \"초 입니다.\")"
      ],
      "metadata": {
        "id": "vzF0oUxjdyGB",
        "colab": {
          "base_uri": "https://localhost:8080/"
        },
        "outputId": "567cdd69-76c2-4113-ad42-b2c513256672"
      },
      "execution_count": null,
      "outputs": [
        {
          "output_type": "stream",
          "name": "stdout",
          "text": [
            "변환하고자 하는 시간(초): 3500\n",
            "3500 초는 58 분 20 초 입니다.\n"
          ]
        }
      ]
    },
    {
      "cell_type": "markdown",
      "source": [
        "* 사용자에게 초 단위의 시간을 입력받안 시-분-초 형태로 출력 <br>\n",
        "1분은 60초, 1시간, 3600초  힌트(몫과 나머지를 여러번 이용)\n",
        "---\n",
        "변환하고자 하는 시간(초)? (사용자 입력) <br>\n",
        "000 초는 00 시간 00 분 00 초이다.\n",
        "\n"
      ],
      "metadata": {
        "id": "qO60aNHrTfYT"
      }
    },
    {
      "cell_type": "code",
      "source": [
        "#  사용자에게 초 단위의 시간을 입력받안 시-분-초 형태로 출력\n",
        "data = int(input(\"변환 하고자 하는 초 : \"))\n",
        "\n",
        "hour = data // 3600    # 3700인 경우 1  SEC_PER_HOUR\n",
        "temp = data % 3600     # 100            SEC_PER_MINUTE\n",
        "minute = temp // 60\n",
        "second = temp % 60\n",
        "\n",
        "print(data, \"초는\", hour, \"시간\", minute, \"분\", second, \"초\")"
      ],
      "metadata": {
        "id": "KZqEibc_T_2E",
        "colab": {
          "base_uri": "https://localhost:8080/"
        },
        "outputId": "8ff3b218-1925-4111-ff59-7e59ce5152c0"
      },
      "execution_count": null,
      "outputs": [
        {
          "output_type": "stream",
          "name": "stdout",
          "text": [
            "변환 하고자 하는 초 : 3700\n",
            "3700 초는 1 시간 1 분 40 초\n"
          ]
        }
      ]
    },
    {
      "cell_type": "markdown",
      "source": [
        "\n",
        "\n",
        "*   기호 상수를 사용하면?\n",
        "\n",
        "\n"
      ],
      "metadata": {
        "id": "f3diJf-uq8Ec"
      }
    },
    {
      "cell_type": "code",
      "source": [
        "##### 자율 예습  #####\n",
        "## 1분은 60초, 1시간은 3600초를 상수로 만들면?\n",
        "SEC_PER_MINUTE = 60\n",
        "SEC_PER_HOUR = 3600\n"
      ],
      "metadata": {
        "id": "w4kX2btjeLLR"
      },
      "execution_count": null,
      "outputs": []
    },
    {
      "cell_type": "markdown",
      "source": [
        "* 사용자가 입력한 돈을 500원, 100원, 50원, 10원으로   교환할 때 각 동전의 개수를 출력 프로그램<br>\n",
        "- 금액은 10원 단위로 입력\n",
        "\n",
        "---\n",
        "동전으로 교환하고자 하는 금액은? (사용자 입력)<br>\n",
        "500 원 동전의 갯수: <br>\n",
        "100 원 동전의 갯수: <br>\n",
        "50 원 동전의 갯수: <br>\n",
        "10 원 동전의 갯수: <br>\n",
        "\n",
        "\n"
      ],
      "metadata": {
        "id": "_gG7MyXRrACk"
      }
    },
    {
      "cell_type": "markdown",
      "source": [
        "# **2부 관계/논리 연산자**"
      ],
      "metadata": {
        "id": "5Ig8avpKBfLD"
      }
    },
    {
      "cell_type": "markdown",
      "source": [
        "## **2.1 관계/비교연산자**\n",
        "두 개의 자료 또는 값(피연산자)을 비교하는 연산자<br>\n",
        "결과값은 항상 참(true) 아니면 거짓(false)"
      ],
      "metadata": {
        "id": "3VbiMkKhuhg0"
      }
    },
    {
      "cell_type": "code",
      "source": [
        "# n1에 10, n2에 100 저장\n",
        "n1 = 10\n",
        "n2 = 100\n",
        "# n1과 n2가 같은지\n",
        "print(n1 == n2)\n",
        "# n1과 n2가 같지 않은지\n",
        "print(n1 != n1)\n",
        "# n1과 n2보다 작은지\n",
        "print(n1 < n2)\n",
        "# n1과 n2보다 큰지\n",
        "print(n1 > n2)\n",
        "# n1과 n2보다 작거나 같은지\n",
        "print(n1 <= n2)\n",
        "# n1과 n2보다 크거나 같은지\n",
        "print(n1 >= n2)"
      ],
      "metadata": {
        "id": "MwLUCDTMujk8",
        "colab": {
          "base_uri": "https://localhost:8080/"
        },
        "outputId": "70900b84-4bd0-465a-8f0d-2d02d7e5ac1e"
      },
      "execution_count": null,
      "outputs": [
        {
          "output_type": "stream",
          "name": "stdout",
          "text": [
            "False\n",
            "False\n",
            "True\n",
            "False\n",
            "True\n",
            "False\n"
          ]
        }
      ]
    },
    {
      "cell_type": "markdown",
      "source": [
        "## 관계/비교 연산 - one more##"
      ],
      "metadata": {
        "id": "A42PWxedfOPS"
      }
    },
    {
      "cell_type": "code",
      "source": [
        "##### 자율 예습  #####\n",
        "# 변수 first - 사용자에게 정수 입력 - 첫번째 정수를 입력하세요:\n",
        "\n",
        "# 변수 second - 사용자에게 정수 입력 - 두번째 정수를 입력하세요:\n",
        "\n",
        "\n",
        "\n",
        "# 비교 연산\n",
        "ds =\n",
        "print(\"첫번째 숫자가 두번째 숫자보다 큰가:\",ds)\n",
        "# 항등 연산\n",
        "ds =\n",
        "print(\"첫번째 숫자와 두번째 숫자가 같은가:\",ds)\n"
      ],
      "metadata": {
        "id": "fqvCsm4nvKSM"
      },
      "execution_count": null,
      "outputs": []
    },
    {
      "cell_type": "code",
      "source": [],
      "metadata": {
        "id": "-tmUKfQk4v8I"
      },
      "execution_count": null,
      "outputs": []
    },
    {
      "cell_type": "markdown",
      "source": [
        "### 관계/비교 연산자 주의 사항 ###\n",
        "\n",
        "\n",
        "1.   == : 같다, = : 대입 연산자\n",
        "2.   논리형 비교 : ==, !=\n",
        "3. 실수시 비교 : 근사값 저장됨\n",
        "\n"
      ],
      "metadata": {
        "id": "zV2NRJFXwNGD"
      }
    },
    {
      "cell_type": "code",
      "source": [
        "# 1. == : 같다, = : 대입 연산자\n",
        "n1 = 3\n",
        "n2 = 3\n",
        "# 같다는 표현\n",
        "print(n1 == n2)\n",
        "# 대입시는 ?\n",
        "n1 = n2\n",
        "print(n1)\n",
        "print(n1 = n2)"
      ],
      "metadata": {
        "id": "wNTjiSLmf7ya",
        "colab": {
          "base_uri": "https://localhost:8080/"
        },
        "outputId": "fab0c4d3-356c-4142-efb9-632dcbdfb0ca"
      },
      "execution_count": null,
      "outputs": [
        {
          "output_type": "stream",
          "name": "stdout",
          "text": [
            "True\n",
            "3\n",
            "3\n"
          ]
        }
      ]
    },
    {
      "cell_type": "code",
      "source": [
        "# 2. 논리형 비교 : ==, !=\n",
        "# exp에 참 대입\n",
        "exp = True\n",
        "# exp가 참 인지\n",
        "print(exp == True)\n",
        "# exp가 거짓 인지\n",
        "print(exp == False)\n",
        "print(exp != False)\n"
      ],
      "metadata": {
        "id": "vCXKBZ8ugIPK",
        "colab": {
          "base_uri": "https://localhost:8080/"
        },
        "outputId": "38d2c205-4f05-4a18-9f9a-7c5bee7d539b"
      },
      "execution_count": null,
      "outputs": [
        {
          "output_type": "stream",
          "name": "stdout",
          "text": [
            "True\n",
            "False\n",
            "True\n"
          ]
        }
      ]
    },
    {
      "cell_type": "code",
      "source": [
        "import math\n",
        "# 3. 실수시 비교 : 근사값 저장됨\n",
        "n = sqrt(3)   # 루트 값\n",
        "\n",
        "# n의 제곱이 3인지 출력\n",
        "print(n*n == 3)\n",
        "# 결과의 이유?"
      ],
      "metadata": {
        "id": "V010sT7wgU65",
        "colab": {
          "base_uri": "https://localhost:8080/",
          "height": 224
        },
        "outputId": "b3a66263-0278-4762-9acb-867eebf5fca8"
      },
      "execution_count": null,
      "outputs": [
        {
          "output_type": "error",
          "ename": "NameError",
          "evalue": "name 'sqrt' is not defined",
          "traceback": [
            "\u001b[0;31m---------------------------------------------------------------------------\u001b[0m",
            "\u001b[0;31mNameError\u001b[0m                                 Traceback (most recent call last)",
            "\u001b[0;32m<ipython-input-21-67723433d630>\u001b[0m in \u001b[0;36m<cell line: 0>\u001b[0;34m()\u001b[0m\n\u001b[1;32m      1\u001b[0m \u001b[0;32mimport\u001b[0m \u001b[0mmath\u001b[0m\u001b[0;34m\u001b[0m\u001b[0;34m\u001b[0m\u001b[0m\n\u001b[1;32m      2\u001b[0m \u001b[0;31m# 3. 실수시 비교 : 근사값 저장됨\u001b[0m\u001b[0;34m\u001b[0m\u001b[0;34m\u001b[0m\u001b[0m\n\u001b[0;32m----> 3\u001b[0;31m \u001b[0mn\u001b[0m \u001b[0;34m=\u001b[0m \u001b[0msqrt\u001b[0m\u001b[0;34m(\u001b[0m\u001b[0;36m3\u001b[0m\u001b[0;34m)\u001b[0m   \u001b[0;31m# 루트 값\u001b[0m\u001b[0;34m\u001b[0m\u001b[0;34m\u001b[0m\u001b[0m\n\u001b[0m\u001b[1;32m      4\u001b[0m \u001b[0;34m\u001b[0m\u001b[0m\n\u001b[1;32m      5\u001b[0m \u001b[0;31m# n의 제곱이 3인지 출력\u001b[0m\u001b[0;34m\u001b[0m\u001b[0;34m\u001b[0m\u001b[0m\n",
            "\u001b[0;31mNameError\u001b[0m: name 'sqrt' is not defined"
          ]
        }
      ]
    },
    {
      "cell_type": "markdown",
      "source": [
        "## **2.2 논리연산자**\n",
        "여러 개의 조건을 조합하여 참과 거짓 <br>\n",
        "결과값은 항상 참(true) 아니면 거짓(false)"
      ],
      "metadata": {
        "id": "23AT-N07g9fZ"
      }
    },
    {
      "cell_type": "code",
      "source": [
        "age= int(input('당신의 나이는?'))\n",
        "\n",
        "res1 = age>=0 and age<=120\n",
        "res2 = 0 <= age <= 120  # 수학과 같은 버전\n",
        "res3 =  0 <= age and age <= 120 # and 버전 0\n",
        "\n",
        "print(age,\"는 유효한 나이인가?\",res1)\n",
        "\n",
        "res4 = age<0 or age >120\n",
        "print(age,\"는 유효한 나이가 아닌가?\",res4)"
      ],
      "metadata": {
        "id": "XzeJV34tiSbS",
        "colab": {
          "base_uri": "https://localhost:8080/"
        },
        "outputId": "e268e607-b35e-4236-fe6a-34bc32fa4354"
      },
      "execution_count": null,
      "outputs": [
        {
          "output_type": "stream",
          "name": "stdout",
          "text": [
            "당신의 나이는?20\n",
            "20 는 유효한 나이인가? True\n",
            "20 는 유효한 나이가 아닌가? False\n"
          ]
        }
      ]
    },
    {
      "cell_type": "code",
      "source": [
        "v = int(input('속도는?'))\n",
        "\n",
        "res = v >= 60 and v <= 100\n",
        "\n",
        "print('속도가 유효한가: ', res)"
      ],
      "metadata": {
        "colab": {
          "base_uri": "https://localhost:8080/",
          "height": 112
        },
        "id": "nSJypFeP9vVG",
        "outputId": "babbd0fd-4226-45f4-a9fb-0f6e08101082"
      },
      "execution_count": null,
      "outputs": [
        {
          "output_type": "error",
          "ename": "IndentationError",
          "evalue": "unexpected indent (<ipython-input-27-ab0a327db07a>, line 5)",
          "traceback": [
            "\u001b[0;36m  File \u001b[0;32m\"<ipython-input-27-ab0a327db07a>\"\u001b[0;36m, line \u001b[0;32m5\u001b[0m\n\u001b[0;31m    print('속도가 유효한가: ', res)\u001b[0m\n\u001b[0m    ^\u001b[0m\n\u001b[0;31mIndentationError\u001b[0m\u001b[0;31m:\u001b[0m unexpected indent\n"
          ]
        }
      ]
    },
    {
      "cell_type": "markdown",
      "source": [
        "# **3부. 단순 if**\n",
        "\n",
        "\n",
        "*   if 조건평가식 : 문장"
      ],
      "metadata": {
        "id": "fggjNxmOwMsT"
      }
    },
    {
      "cell_type": "code",
      "source": [
        "# average 가 60 이상이면 pass\n",
        "average = 80\n",
        "\n",
        "if average > 60 :\n",
        "    print(\"pass\")\n"
      ],
      "metadata": {
        "id": "uWF5a_3xwN_7",
        "colab": {
          "base_uri": "https://localhost:8080/"
        },
        "outputId": "628d59d2-94e8-4961-fcc0-b2e0302cf7ef"
      },
      "execution_count": null,
      "outputs": [
        {
          "output_type": "stream",
          "name": "stdout",
          "text": [
            "pass\n"
          ]
        }
      ]
    },
    {
      "cell_type": "code",
      "source": [
        "# 사용자가 입력한 2개의 정수(n1, n2)의 비교\n",
        "# n1 - 첫번째 정수\n",
        "# n2 - 두번째 정수\n",
        "\n",
        "\n",
        "# n1이 n2 보다 큰지? - 버전 1 - 한줄에\n",
        "if  n1>n2 :\n",
        "\tprint(f'{n1}은 {n2} 보다 크다')\n",
        "\n",
        "# 만약 n1이 n2 보다 큰지? - 버전 1 - 한줄에\n",
        "if  n1>n2 :\n",
        "\n",
        "# n1이 n2 보다 큰지? - 버전 2  - 기본 버전\n",
        "if n1>n2:\n",
        "    print(f'{n1}이 {n2}보다 크다')\n",
        "print('끝')\n"
      ],
      "metadata": {
        "id": "4ziMRgjKwPQL"
      },
      "execution_count": null,
      "outputs": []
    },
    {
      "cell_type": "code",
      "source": [
        "# 배타적인 상황!!!!\n",
        "n1 = 10\n",
        "n2 = 20\n",
        "\n",
        "# 만약 n1이 n2 보다 크면? n1이 n2보다 더 크다 출력\n",
        "if n1 > n2 :\n",
        "    print(\"n1 > n2 \")\n",
        "\n",
        "# 만약 n1이 n2 보다 작거나 같으면? n1이 n2보다 작거나 같다 출력\n",
        "if n1 <= n2 :\n",
        "    print(\"n1 <= n2) \")\n",
        "\n",
        "# 배타적인 상황"
      ],
      "metadata": {
        "id": "teCe1c98-VGQ"
      },
      "execution_count": null,
      "outputs": []
    },
    {
      "cell_type": "markdown",
      "source": [
        " ## **if ~ else : 배타적인 상황 **\n",
        " if 조건평가식 : <br>\n",
        "    [빈칸] 문장 <br>\n",
        "    else : <br>\n",
        "    [빈칸] 문장 <br>"
      ],
      "metadata": {
        "id": "cOADjx6--jxw"
      }
    },
    {
      "cell_type": "code",
      "source": [
        "# 만약 n1이 n2 보다 크면? n1이 n2보다 더 크다 출력\n",
        "if n1 > n2 :\n",
        "    print(\"n1 > n2 \")\n",
        "\n",
        "# 만약 n1이 n2 보다 작거나 같으면? n1이 n2보다 작거나 같다 출력\n",
        "else :\n",
        "    print(\"n1 <= n2) \")"
      ],
      "metadata": {
        "id": "E-nkcgGA-a3o"
      },
      "execution_count": null,
      "outputs": []
    },
    {
      "cell_type": "markdown",
      "source": [
        "## **실습 문제**"
      ],
      "metadata": {
        "id": "oYMgqbeaxcWD"
      }
    },
    {
      "cell_type": "markdown",
      "source": [
        "*   정수 1개를 입력 받아 홀수인지 짝수인지 판단 한 후, 판단 결과를 화면에 출력하는 프로그램 작성\n",
        "\n",
        "\n",
        "---\n",
        "정수를 입력하시오 : (사용자 입력) <br>\n",
        "홀수입니다.<br>\n",
        "프로그램 종료.\n"
      ],
      "metadata": {
        "id": "SUJeJOHUxksb"
      }
    },
    {
      "cell_type": "code",
      "source": [
        "num = int(input(\"정수를 입력하시오 :\"))\n",
        "\n",
        "if num % 2 == 1 :\n",
        "    print(\"홀수 입니다\")\n",
        "print(\"프로그램 종료\")"
      ],
      "metadata": {
        "id": "fLlf5nFNxTF0",
        "colab": {
          "base_uri": "https://localhost:8080/"
        },
        "outputId": "0de3dd9c-b53b-48ce-e7e7-5f05a8acd8f8"
      },
      "execution_count": null,
      "outputs": [
        {
          "output_type": "stream",
          "name": "stdout",
          "text": [
            "정수를 입력하시오 :15\n",
            "홀수 입니다\n",
            "프로그램 종료\n"
          ]
        }
      ]
    }
  ]
}