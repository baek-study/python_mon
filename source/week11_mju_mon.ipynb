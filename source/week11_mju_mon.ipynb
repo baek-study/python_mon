{
  "nbformat": 4,
  "nbformat_minor": 0,
  "metadata": {
    "colab": {
      "provenance": [],
      "include_colab_link": true
    },
    "kernelspec": {
      "name": "python3",
      "display_name": "Python 3"
    },
    "language_info": {
      "name": "python"
    }
  },
  "cells": [
    {
      "cell_type": "markdown",
      "metadata": {
        "id": "view-in-github",
        "colab_type": "text"
      },
      "source": [
        "<a href=\"https://colab.research.google.com/github/baek-study/python_mon/blob/main/week11_mju_mon.ipynb\" target=\"_parent\"><img src=\"https://colab.research.google.com/assets/colab-badge.svg\" alt=\"Open In Colab\"/></a>"
      ]
    },
    {
      "cell_type": "markdown",
      "source": [
        "### **[11주차 강의] - 파이썬 입문(월)/백혜정 교수**"
      ],
      "metadata": {
        "id": "hNoWAlhi4vPD"
      }
    },
    {
      "cell_type": "markdown",
      "source": [
        "# **1부 함수 리뷰</span>**\n",
        "\n",
        "\n",
        "*   함수는 이름을 가지고, 입력을 받아서 작업을 수행후 결과를 반환 <br>\n",
        "&emsp; - 함수이름, 입력(매개변수), 결과(return값)"
      ],
      "metadata": {
        "id": "B5yxx4Z--O6-"
      }
    },
    {
      "cell_type": "markdown",
      "source": [
        "### **함수 정의 - 만들기**\n",
        "\n",
        "\n",
        "*   def 함수이름(매개변수) :<br>\n",
        "&emsp; 문장들 <br>\n",
        "&emsp; return 값"
      ],
      "metadata": {
        "id": "bSPc7Pd__Dbm"
      }
    },
    {
      "cell_type": "code",
      "source": [
        "# get_area 함수 정의\n",
        "# 매개변수 : radius,  결과(return) 있는 함수\n",
        "# 하는 일 : radius*radius*3.14 를 계산 하여 리턴\n",
        "def get_area(radius) :\n",
        "    area = radius*radius*3.14\n",
        "    return area\n",
        "\n",
        "# print_msg 함수 정의\n",
        "# 매개변수 : name, 결과(return) 없는 함수\n",
        "# 하는일 : 안녕하세요, name님! 축하드립니다. 출력\n",
        "def print_msg(name) :\n",
        "    print(\"안녕하세요\")\n",
        "    print(f'{name}님! 축하드립니다')\n",
        "\n",
        "\n"
      ],
      "metadata": {
        "id": "DxpOkCut_GEW"
      },
      "execution_count": null,
      "outputs": []
    },
    {
      "cell_type": "markdown",
      "source": [
        "###  **함수 호출 - 부르기**\n",
        "\n",
        "\n",
        "*   수행할 함수의 이름을 써주는 것\n",
        "*   함수이름(인수1, 인수2, .... 인수 n)"
      ],
      "metadata": {
        "id": "iSeH1FSg_ODe"
      }
    },
    {
      "cell_type": "code",
      "source": [
        "# get_area 호출(부르기)\n",
        "# radius  - 사용자에게 반지름 받기\n",
        "value = get_area(3)\n",
        "print(f'반지름 3의 원의 넓이 {value}')\n",
        "value = get_area(10)\n",
        "print(f'반지름 10의 원의 넓이 {value}')\n",
        "\n",
        "# print_msg 호출(부르기)\n",
        "print_msg(\"영희\")\n",
        "print_msg(\"명지\")\n",
        "print_msg(30)\n"
      ],
      "metadata": {
        "id": "MAD4qM4r_LXG",
        "colab": {
          "base_uri": "https://localhost:8080/"
        },
        "outputId": "80f2843c-82d6-465a-de72-a01d5f813532"
      },
      "execution_count": null,
      "outputs": [
        {
          "output_type": "stream",
          "name": "stdout",
          "text": [
            "반지름 3의 원의 넓이 28.26\n",
            "반지름 10의 원의 넓이 314.0\n",
            "안녕하세요\n",
            "영희님! 축하드립니다\n",
            "안녕하세요\n",
            "명지님! 축하드립니다\n",
            "안녕하세요\n",
            "30님! 축하드립니다\n"
          ]
        }
      ]
    },
    {
      "cell_type": "code",
      "source": [
        "# 함수 유형 :\n",
        "\n",
        "# make_msg 함수 정의\n",
        "# 매개변수 : 없음, 결과(return) 없는 함수\n",
        "# 하는일 :  사용자에게 name 입력 받은 후, 안녕하세요, name님! 축하드립니다. 화면에 출력\n",
        "def make_msg() :\n",
        "    name = input('이름 입력')\n",
        "    print('안녕하세요')\n",
        "    print(f'{name}님 축하 드립니다.')\n",
        "\n",
        "\n",
        "# make_msg 함수 호출\n",
        "make_msg()\n",
        "make_msg()\n"
      ],
      "metadata": {
        "id": "joyfvPjXy-9w",
        "colab": {
          "base_uri": "https://localhost:8080/"
        },
        "outputId": "788efc51-08f7-4060-eb3d-ff2307cb8781"
      },
      "execution_count": null,
      "outputs": [
        {
          "output_type": "stream",
          "name": "stdout",
          "text": [
            "이름 입력명지\n",
            "안녕하세요\n",
            "명지님 축하 드립니다.\n",
            "이름 입력용인\n",
            "안녕하세요\n",
            "용인님 축하 드립니다.\n"
          ]
        }
      ]
    },
    {
      "cell_type": "code",
      "source": [
        "# make_msg_return 함수 정의\n",
        "# 매개변수 : 없음, 결과(return) 있는 함수\n",
        "# 하는일 :  사용자에게 name 입력 받은 후, msg에 \"안녕하세요, name님! 축하드립니다.\"를 넣은 후 리턴\n",
        "def make_msg_return() :\n",
        "    name = input(\"이름입력\")\n",
        "    msg = '안녕하세요 ' + name +'님! 축하드립니다'\n",
        "    return msg\n",
        "\n",
        "\n",
        "value = make_msg_return()\n",
        "print(value)\n",
        "value = make_msg_return()\n",
        "print(value)"
      ],
      "metadata": {
        "colab": {
          "base_uri": "https://localhost:8080/"
        },
        "id": "hxGmpoB5Axgm",
        "outputId": "ba8a688f-79cc-4ade-f00e-b954fe7a3394"
      },
      "execution_count": null,
      "outputs": [
        {
          "output_type": "stream",
          "name": "stdout",
          "text": [
            "이름입력명지\n",
            "안녕하세요 명지님! 축하드립니다\n",
            "이름입력홍길동\n",
            "안녕하세요 홍길동님! 축하드립니다\n"
          ]
        }
      ]
    },
    {
      "cell_type": "code",
      "source": [
        "# get_max 함수 정의\n",
        "# 매개변수 : 정수 2개 x, y\n",
        "# 하는일 :  x가 y 보다 크면 x를 그렇지 않으면 y를 리턴 (큰수를 리턴)\n",
        "\n",
        "def get_max(x, y) :\n",
        "    print(f'{x=}, {y=}')\n",
        "    if x>y :\n",
        "        return x\n",
        "    else :\n",
        "        return y\n",
        "\n",
        "value = get_max(x=3, y=5)\n",
        "print(f'(3,5 ) 큰값은 {value}')\n",
        "value = get_max(y=20, x=10)\n",
        "print(f'(20,10 ) 큰값은 {value}')"
      ],
      "metadata": {
        "colab": {
          "base_uri": "https://localhost:8080/"
        },
        "id": "KyLxo21NA5h9",
        "outputId": "36927d8a-b785-4e2f-aa9d-3b0fab96c91c"
      },
      "execution_count": null,
      "outputs": [
        {
          "output_type": "stream",
          "name": "stdout",
          "text": [
            "x=3, y=5\n",
            "(3,5 ) 큰값은 5\n",
            "x=10, y=20\n",
            "(20,10 ) 큰값은 20\n"
          ]
        }
      ]
    },
    {
      "cell_type": "markdown",
      "source": [
        "### 심화 프로그램 - one more\n",
        "두 개의 주사위의 합을 출력하는 함수 two_dice()를 정의하고 호출하기\n",
        "\n",
        "\n",
        "---\n",
        "두 개의 주사위 눈금의 합: 9\n",
        "\n"
      ],
      "metadata": {
        "id": "9CDvGCNDzhtA"
      }
    },
    {
      "cell_type": "code",
      "source": [
        "# 두 개의 주사위의 합을 출력하는 함수 two_dice()를 정의"
      ],
      "metadata": {
        "id": "fxobihsU0ENp"
      },
      "execution_count": null,
      "outputs": []
    },
    {
      "cell_type": "markdown",
      "source": [
        "###  인수 종류\n",
        "*   위치 인수 : 인수를 순서대로 값을 전달\n",
        "*   키워드 인수 : 이름  - 값\n",
        "* 기본값(디폴트) 인수  : 매개변수에 기본값 정의\n",
        "* 가변 인수 : 인수 개수가 정해지지 않음\n"
      ],
      "metadata": {
        "id": "h_B3x-_gDSAf"
      }
    },
    {
      "cell_type": "code",
      "source": [
        "# get_area\n",
        "def get_area(radius = 1) :\n",
        "    area = radius*radius*3.14\n",
        "    return area\n",
        "\n",
        "# 위치 인수\n",
        "value = get_area(3)\n",
        "print(f'{value=}')\n",
        "\n",
        "# 키워드 인수\n",
        "value =get_area(radius = 3)\n",
        "print(f'{value=}')\n",
        "# 기본값(디폴트) 인수\n",
        "value =get_area()\n",
        "print(f'{value=}')\n",
        "# 가변 인수\n",
        "\n"
      ],
      "metadata": {
        "collapsed": true,
        "id": "E3d-tPk9DgG-",
        "colab": {
          "base_uri": "https://localhost:8080/"
        },
        "outputId": "4e174d01-23c6-46f9-f7a6-4b78bf38f208"
      },
      "execution_count": null,
      "outputs": [
        {
          "output_type": "stream",
          "name": "stdout",
          "text": [
            "value=28.26\n",
            "value=28.26\n",
            "value=3.14\n"
          ]
        }
      ]
    },
    {
      "cell_type": "code",
      "source": [
        "\n",
        "print('life', 'is')\n",
        "print('beautiful')\n",
        "\n",
        "\n",
        "print('life', 'is', sep = '###', end = ' ')\n",
        "print('beautiful')"
      ],
      "metadata": {
        "colab": {
          "base_uri": "https://localhost:8080/"
        },
        "id": "TMkwiO9OFORG",
        "outputId": "875a1831-8b25-431d-8447-2c2980d8a5d7"
      },
      "execution_count": null,
      "outputs": [
        {
          "output_type": "stream",
          "name": "stdout",
          "text": [
            "life is\n",
            "beautiful\n",
            "life###is beautiful\n"
          ]
        }
      ]
    },
    {
      "cell_type": "code",
      "source": [
        "# print_variables 함수\n",
        "# 하는일은 : 매개변수 찍어주기\n",
        "# 매개변수 ; 가변 인수\n",
        "\n",
        "def print_vars(*x):\n",
        "    print(x)\n",
        "\n",
        "print_vars('a')\n",
        "print_vars('a', 'b', 'c')\n",
        "print_vars()"
      ],
      "metadata": {
        "colab": {
          "base_uri": "https://localhost:8080/"
        },
        "id": "Y_zfEJiXF-vW",
        "outputId": "0ac86d19-9536-464e-c8f9-695571e53118"
      },
      "execution_count": null,
      "outputs": [
        {
          "output_type": "stream",
          "name": "stdout",
          "text": [
            "('a',)\n",
            "('a', 'b', 'c')\n",
            "()\n"
          ]
        }
      ]
    },
    {
      "cell_type": "markdown",
      "source": [
        "# **2부 지역변수와 전역변수**\n",
        "지역변수(local variable), 전역변수(global variable)"
      ],
      "metadata": {
        "id": "f-xkcedf6rli"
      }
    },
    {
      "cell_type": "markdown",
      "source": [
        "## **2.1 지역 변수**\n",
        "\n",
        "\n",
        "*   함수 내에서 생성된 변수와 매개변수\n",
        "*   선언된 함수 내에서만 접근 가능\n",
        "\n"
      ],
      "metadata": {
        "id": "8qPQebzSARjc"
      }
    },
    {
      "cell_type": "code",
      "source": [
        "# 지역변수 1/2 -  선언된 함수 내에서만 접근 가능\n",
        "# def myfunc():\n",
        "def myfunc() :\n",
        "    x = 3    # 지역변수\n",
        "    print(x)\n",
        "\n",
        "# 주 프로그램\n",
        "myfunc()\n",
        "print(x)"
      ],
      "metadata": {
        "id": "Kyd6GMIx65Bq",
        "colab": {
          "base_uri": "https://localhost:8080/",
          "height": 205
        },
        "outputId": "5787b2e5-a72a-47fa-829f-1d95e2797c22"
      },
      "execution_count": null,
      "outputs": [
        {
          "output_type": "stream",
          "name": "stdout",
          "text": [
            "3\n"
          ]
        },
        {
          "output_type": "error",
          "ename": "NameError",
          "evalue": "name 'x' is not defined",
          "traceback": [
            "\u001b[0;31m---------------------------------------------------------------------------\u001b[0m",
            "\u001b[0;31mNameError\u001b[0m                                 Traceback (most recent call last)",
            "\u001b[0;32m<ipython-input-3-979dc6651bf1>\u001b[0m in \u001b[0;36m<cell line: 0>\u001b[0;34m()\u001b[0m\n\u001b[1;32m      7\u001b[0m \u001b[0;31m# 주 프로그램\u001b[0m\u001b[0;34m\u001b[0m\u001b[0;34m\u001b[0m\u001b[0m\n\u001b[1;32m      8\u001b[0m \u001b[0mmyfunc\u001b[0m\u001b[0;34m(\u001b[0m\u001b[0;34m)\u001b[0m\u001b[0;34m\u001b[0m\u001b[0;34m\u001b[0m\u001b[0m\n\u001b[0;32m----> 9\u001b[0;31m \u001b[0mprint\u001b[0m\u001b[0;34m(\u001b[0m\u001b[0mx\u001b[0m\u001b[0;34m)\u001b[0m\u001b[0;34m\u001b[0m\u001b[0;34m\u001b[0m\u001b[0m\n\u001b[0m",
            "\u001b[0;31mNameError\u001b[0m: name 'x' is not defined"
          ]
        }
      ]
    },
    {
      "cell_type": "code",
      "source": [
        "# 지역변수 2/2 - 지역 변수 마다 동일한 이름 사용 가능\n",
        "# def myfunc():\n",
        "def myfunc():\n",
        "    x = 3\n",
        "    myfunc2()\n",
        "    print(x)\n",
        "\n",
        "# myfunc2() 함수\n",
        "def myfunc2():\n",
        "    x = 100\n",
        "    print(x)\n",
        "\n",
        "# 주 프로그램\n",
        "myfunc()\n"
      ],
      "metadata": {
        "id": "TXhUc16EFhHf",
        "colab": {
          "base_uri": "https://localhost:8080/"
        },
        "outputId": "9120b8eb-58a0-4d8a-bfc9-760167de68c3"
      },
      "execution_count": null,
      "outputs": [
        {
          "output_type": "stream",
          "name": "stdout",
          "text": [
            "100\n",
            "3\n"
          ]
        }
      ]
    },
    {
      "cell_type": "code",
      "source": [
        "# 함수 외에서 지역 변수 접근 불가능\n",
        "# myfunc() 함수\n",
        "\n",
        "# 주 프로그램\n",
        "# myfunc() 함수 내부 사용\n"
      ],
      "metadata": {
        "id": "5OJVtl6V2sJG"
      },
      "execution_count": null,
      "outputs": []
    },
    {
      "cell_type": "markdown",
      "source": [
        "## **2.2 전역 변수**\n",
        "함수 외부에서 생성되며 모든 함수에서 접근 가능"
      ],
      "metadata": {
        "id": "Sw9_bUhq7KNh"
      }
    },
    {
      "cell_type": "code",
      "source": [
        "# 전역변수 1/2 - 함수 외부에 생성 되어 모두 접근\n",
        "gx = 3\n",
        "\n",
        "def myfunc():\n",
        "    lx = 5\n",
        "    global gx\n",
        "    gx = 10\n",
        "    print(lx)\n",
        "    print(gx)\n",
        "\n",
        "myfunc()\n",
        "print(gx)\n",
        "\n"
      ],
      "metadata": {
        "id": "6Q5KseXt7Rdy",
        "colab": {
          "base_uri": "https://localhost:8080/"
        },
        "outputId": "8600ce69-ec2f-49c4-9aa5-cfc90e2ef60d"
      },
      "execution_count": null,
      "outputs": [
        {
          "output_type": "stream",
          "name": "stdout",
          "text": [
            "5\n",
            "10\n",
            "10\n"
          ]
        }
      ]
    },
    {
      "cell_type": "code",
      "source": [
        "# 함수 내부에서 전역 변수 사용 가능 - 함수내 접근 가능\n",
        "# my func()\n"
      ],
      "metadata": {
        "id": "7nd-L3CrHBln"
      },
      "execution_count": null,
      "outputs": []
    },
    {
      "cell_type": "markdown",
      "source": [
        "## **2.3  전역변수 변경- global 키워드 이용**\n",
        "\n",
        "\n",
        "1. 함수내 전역 변수 변경 - 새로운 지역 변수로 간주\n",
        "2. 함수내 global 키워드 이용시 - 전역 변수 변경 가능  \n",
        "\n"
      ],
      "metadata": {
        "id": "QHO1l3LB7fAa"
      }
    },
    {
      "cell_type": "markdown",
      "source": [
        "# **3부 모듈 구성 및 사용**\n",
        "\n",
        "\n",
        "*   모듈 : 함수의 정의나 변수들을 모아 놓은 파일\n",
        "* 파일이름에서 확장자(.py)를 제외\n"
      ],
      "metadata": {
        "id": "NFUFwvUiA-mj"
      }
    },
    {
      "cell_type": "markdown",
      "source": [
        "##**3.1 모듈 활용**\n",
        "특정모듈을 현재 모듈로 가져오는 5가지 방법\n",
        "\n"
      ],
      "metadata": {
        "id": "M392tgfK8wNr"
      }
    },
    {
      "cell_type": "code",
      "source": [
        "## 방법1 - import 모듈이름\n",
        "import random\n",
        "\n",
        "num1 = random.randint(1, 8)\n",
        "print(f'{num1=}')\n",
        "## 방법2 - import 모듈이름 as 별명   - alias\n",
        "import random as rd\n",
        "num2 = rd.randint(1, 8)\n",
        "print(f'{num2=}')\n",
        "\n",
        "\n"
      ],
      "metadata": {
        "id": "qWT1laWGGZ0c",
        "colab": {
          "base_uri": "https://localhost:8080/"
        },
        "outputId": "d4cd43fd-f59f-4d8c-f61d-95e46de33cc4"
      },
      "execution_count": null,
      "outputs": [
        {
          "output_type": "stream",
          "name": "stdout",
          "text": [
            "num1=2\n",
            "num2=1\n"
          ]
        }
      ]
    },
    {
      "cell_type": "code",
      "source": [
        "## 방법3 - from 모듈이름 import 함수이름, 함수이름\n",
        "from random import randint\n",
        "\n",
        "num3 = randint(1, 8)\n",
        "print(f'{num3=}')\n",
        "\n",
        "\n",
        "## 방법4 - form 모듈이름 import 함수 이름 as 별명\n",
        "from random import randint as rdi\n",
        "\n",
        "num4 = rdi(1, 8)\n",
        "print(f'{num4=}')\n",
        "\n",
        "\n"
      ],
      "metadata": {
        "id": "8wa2PhDj9JRz",
        "colab": {
          "base_uri": "https://localhost:8080/"
        },
        "outputId": "30d8e74a-2b43-4582-801c-3824b4373ea2"
      },
      "execution_count": null,
      "outputs": [
        {
          "output_type": "stream",
          "name": "stdout",
          "text": [
            "num3=6\n",
            "num4=4\n"
          ]
        }
      ]
    },
    {
      "cell_type": "code",
      "source": [
        "## 방법5 - form 모듈이름 import *  - 모듈내 모든 함수 가져옴\n",
       "from random import *\n",
        "\n"
      ],
      "metadata": {
        "id": "bMCcYt8S9Ry6"
      },
      "execution_count": null,
      "outputs": []
    },
    {
      "cell_type": "markdown",
      "source": [
        "##**2.1 모듈 작성**\n",
        "\n",
        "*   사용자 생성 모듈 : 직접 작성한 모듈,\n",
        "\n"
      ],
      "metadata": {
        "id": "z7AApIlt8Pzq"
      }
    },
    {
      "cell_type": "code",
      "source": [
        "%%writefile cal_area.py\n",
        "# 파일명 : calc_area.py\n",
        "# 설  명 : 도형의 넓이를 구하는 모듈\n",
        "\n",
        "# 1. 원의 넓이를 구하기 get_circle_area 함수\n",
        "# 매개변수 : 반지름, 반환값 : 원의 넓이\n",
        "def get_circle_area(radius):\n",
        "    result = 3.14*radius**2\n",
        "    return result\n",
        "\n",
        "# 2. 사각형의 넓이를 구하기\n",
        "# 매개변수 : 너비, 높이, 반환값 : 사각형의 넓이\n",
        "def get_rect_area(width, height) :\n",
        "    result = width*height\n",
        "    return result"
      ],
      "metadata": {
        "id": "5nlyCfbSIVcH",
        "colab": {
          "base_uri": "https://localhost:8080/"
        },
        "outputId": "602af21a-e530-44a6-a552-fd9bf93736ed"
      },
      "execution_count": null,
      "outputs": [
        {
          "output_type": "stream",
          "name": "stdout",
          "text": [
            "Writing cal_area.py\n"
          ]
        }
      ]
    },
    {
      "cell_type": "code",
      "source": [
        "import cal_area\n",
        "value = cal_area.get_circle_area(10)\n",
        "print(f'{value=}')\n",
        "\n",
        "value = cal_area.get_rect_area(3, 5)\n",
        "print(f'{value=}')"
      ],
      "metadata": {
        "id": "HvwD3ltP16mg",
        "colab": {
          "base_uri": "https://localhost:8080/"
        },
        "outputId": "fba6946e-ed30-49c0-d502-84d099fcaf72"
      },
      "execution_count": null,
      "outputs": [
        {
          "output_type": "stream",
          "name": "stdout",
          "text": [
            "value=314.0\n",
            "value=15\n"
          ]
        }
      ]
    },
    {
      "cell_type": "code",
      "source": [
        "from cal_area import get_rect_area\n",
        "\n",
        "value = get_rect_area(3, 5)\n",
        "print(f'{value=}')"
      ],
      "metadata": {
        "colab": {
          "base_uri": "https://localhost:8080/"
        },
        "id": "zo2aymwTUyXj",
        "outputId": "62fb3e98-3e19-4865-a1f1-6607126ff826"
      },
      "execution_count": null,
      "outputs": [
        {
          "output_type": "stream",
          "name": "stdout",
          "text": [
            "value=15\n"
          ]
        }
      ]
    },
    {
      "cell_type": "markdown",
      "source": [
        "# **3부 표준 모듈**\n",
        "파이썬을 설치하면 기본적으로 제공 <br>\n",
        "random, math, turtle, time 등"
      ],
      "metadata": {
        "id": "5Ig8avpKBfLD"
      }
    },
    {
      "cell_type": "markdown",
      "source": [
        "##**3.1 random : 난수 모듈**\n",
        "불규칙해 보이는 패턴 수 생성\n",
        "randint(start, end) - 구간내 난수 생성"
      ],
      "metadata": {
        "id": "w_ZuoZCv-25K"
      }
    },
    {
      "cell_type": "code",
      "source": [
        "# 함수 roll_dice()"
      ],
      "metadata": {
        "id": "ZeD3feNeKT2H"
      },
      "execution_count": null,
      "outputs": []
    }
  ]
}
